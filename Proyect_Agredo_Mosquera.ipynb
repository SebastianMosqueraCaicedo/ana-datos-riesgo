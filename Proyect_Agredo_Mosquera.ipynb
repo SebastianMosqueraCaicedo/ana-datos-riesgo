{
  "nbformat": 4,
  "nbformat_minor": 0,
  "metadata": {
    "colab": {
      "provenance": [],
      "collapsed_sections": [
        "eWvcsW_U_77K",
        "OlG3LS_GMGc-"
      ]
    },
    "kernelspec": {
      "name": "python3",
      "display_name": "Python 3"
    },
    "language_info": {
      "name": "python"
    }
  },
  "cells": [
    {
      "cell_type": "markdown",
      "source": [
        "# Class Project\n",
        "### Description\n",
        "This data set consists of three types of entities: (a) the specification of an auto in terms of various\n",
        "characteristics, (b) its assigned insurance risk rating, (c) its normalized losses in use as compared to\n",
        "other cars. The second rating corresponds to the degree to which the auto is more risky than its\n",
        "price indicates. Cars are initially assigned a risk factor symbol associated with its price. Then, if it is\n",
        "more risky (or less), this symbol is adjusted by moving it up (or down) the scale. Actuarians call this\n",
        "process \"symboling\". A value of +3 indicates that the auto is risky, -3 that it is probably pretty safe.\n",
        "The third factor is the relative average loss payment per insured vehicle year. This value is\n",
        "normalized for all autos within a particular size classification (two-door small, station wagons,\n",
        "sports/speciality, etc...), and represents the average loss per car per year.\n",
        "Attribute Information:\n",
        "Attribute: Attribute Range\n",
        "1. symboling: -3, -2, -1, 0, 1, 2, 3.\n",
        "2. normalized-losses: continuous from 65 to 256.\n",
        "3. make:\n",
        "alfa-romero, audi, bmw, chevrolet, dodge, honda,\n",
        "isuzu, jaguar, mazda, mercedes-benz, mercury,\n",
        "mitsubishi, nissan, peugot, plymouth, porsche,\n",
        "renault, saab, subaru, toyota, volkswagen, volvo\n",
        "4. fuel-type: diesel, gas.\n",
        "5. aspiration: std, turbo.\n",
        "6. num-of-doors: four, two.\n",
        "7. body-style: hardtop, wagon, sedan, hatchback, convertible.\n",
        "8. drive-wheels: 4wd, fwd, rwd.\n",
        "9. engine-location: front, rear.\n",
        "10. wheel-base: continuous from 86.6 120.9.\n",
        "11. length: continuous from 141.1 to 208.1.\n",
        "12. width: continuous from 60.3 to 72.3.\n",
        "13. height: continuous from 47.8 to 59.8.\n",
        "14. curb-weight: continuous from 1488 to 4066.\n",
        "15. engine-type: dohc, dohcv, l, ohc, ohcf, ohcv, rotor.\n",
        "16. num-of-cylinders: eight, five, four, six, three, twelve, two.\n",
        "17. engine-size: continuous from 61 to 326.\n",
        "18. fuel-system: 1bbl, 2bbl, 4bbl, idi, mfi, mpfi, spdi, spfi.\n",
        "19. bore: continuous from 2.54 to 3.94.\n",
        "20. stroke: continuous from 2.07 to 4.17.\n",
        "21. compression-ratio: continuous from 7 to 23.\n",
        "22. horsepower: continuous from 48 to 288.\n",
        "23. peak-rpm: continuous from 4150 to 6600.\n",
        "24. city-mpg: continuous from 13 to 49.\n",
        "25. highway-mpg: continuous from 16 to 54.\n",
        "26. price: continuous from 5118 to 45400.\n",
        "\n",
        "The idea of this project is to predict the insurance risk rating of a car as well as characterizing the\n",
        "different segments of the population.\n",
        "Steps to follow\n",
        "1. Cleaning and EDA: Check for data quality issues.\n",
        "You must evaluate the quality of the data, as well as understanding the relationship between features and the target variable.\n",
        "2. Predictive models: Train predictive models (at least 3) that will allow you to estimate the insurance risk rating of a car from the values of the other variables. Choose the best model, looking for its optimal parameters.\n",
        "You must include a section in which you establish the evaluation protocols and the models’ training and evaluation processes.\n",
        "3. Dimensionality reduction: Considering all the variables, perform a principal component analysis (PCA), choosing the number of components necessary to preserve at least 80% of the original representation.\n",
        "4. Characterizing the cars: With the data in its new representation, perform a segmentation, establishing the best number of clusters between 3 and 5. Characterize the clusters with respect to the original variables."
      ],
      "metadata": {
        "id": "weat9jvy9LHh"
      }
    },
    {
      "cell_type": "markdown",
      "source": [
        "## // Si ven esto desde Google Collab, ordenamos todo con la tabla de contenido usando headers de Mark-Down para mejor navegacion."
      ],
      "metadata": {
        "id": "ZG6ZQzwsDRtP"
      }
    },
    {
      "cell_type": "markdown",
      "source": [
        "## **1. CLEANING AND EDA**"
      ],
      "metadata": {
        "id": "tI6fG2VA9sWY"
      }
    },
    {
      "cell_type": "markdown",
      "source": [
        "### Importar y ordenar datos"
      ],
      "metadata": {
        "id": "_dHizYso_1Y0"
      }
    },
    {
      "cell_type": "code",
      "source": [
        "from google.colab import drive\n",
        "\n",
        "import numpy as np #operaciones matriciales y con vectores\n",
        "import pandas as pd #tratamiento de datos\n",
        "import math #matematica\n",
        "import matplotlib.pyplot as plt #gráficos\n",
        "import seaborn as sns #graficas\n",
        "from sklearn import datasets #modelos\n",
        "from sklearn import neighbors, metrics\n",
        "from sklearn.model_selection import train_test_split #metodo de particionamiento de datasets para evaluación\n",
        "from sklearn.model_selection import cross_val_score, cross_validate #método para evaluar varios particionamientos de C-V\n",
        "from sklearn.model_selection import KFold, StratifiedKFold, RepeatedKFold, LeaveOneOut #Iteradores de C-V"
      ],
      "metadata": {
        "id": "WdSXi0Vr-Zig"
      },
      "execution_count": null,
      "outputs": []
    },
    {
      "cell_type": "code",
      "source": [
        "import warnings\n",
        "warnings.filterwarnings('ignore')"
      ],
      "metadata": {
        "id": "NoUeyGt6GkrY"
      },
      "execution_count": null,
      "outputs": []
    },
    {
      "cell_type": "markdown",
      "source": [
        "\n",
        "\n",
        "---\n",
        "\n"
      ],
      "metadata": {
        "id": "ft2A-p9d-ROA"
      }
    },
    {
      "cell_type": "code",
      "source": [
        "column_names = [\"Symbolizing\",\"Normalized_losses\", \"Make\", \"Fuel_type\", \"Aspiration\", \n",
        "                \"Num_of_doors\", \"Body_style\", \"Drive_wheels\", \"Engine_location\", \n",
        "                \"Wheel_base\", \"Length\", \"Width\", \"Heigth\", \"Curb_weight\", \"Engine_type\",\n",
        "                \"Num_of_cylinders\", \"Engine_size\", \"Fuel_system\", \"Bore\", \"Stroke\",\n",
        "                \"Compression_ratio\", \"Horse_power\", \"Peak_rpm\", \"City_mpg\", \n",
        "                \"Highway_mpg\", \"Price\"]\n",
        "                \n",
        "\n",
        "data = pd.read_csv('/content/imports-85.data', sep=',', names=column_names)\n",
        "\n",
        "\n",
        "data.head()"
      ],
      "metadata": {
        "colab": {
          "base_uri": "https://localhost:8080/",
          "height": 352
        },
        "id": "N7T-Zd5qGh6n",
        "outputId": "43c41211-fa41-4449-81a9-53816fb3b613"
      },
      "execution_count": null,
      "outputs": [
        {
          "output_type": "execute_result",
          "data": {
            "text/plain": [
              "   Symbolizing Normalized_losses         Make Fuel_type Aspiration  \\\n",
              "0            3                 ?  alfa-romero       gas        std   \n",
              "1            3                 ?  alfa-romero       gas        std   \n",
              "2            1                 ?  alfa-romero       gas        std   \n",
              "3            2               164         audi       gas        std   \n",
              "4            2               164         audi       gas        std   \n",
              "\n",
              "  Num_of_doors   Body_style Drive_wheels Engine_location  Wheel_base  ...  \\\n",
              "0          two  convertible          rwd           front        88.6  ...   \n",
              "1          two  convertible          rwd           front        88.6  ...   \n",
              "2          two    hatchback          rwd           front        94.5  ...   \n",
              "3         four        sedan          fwd           front        99.8  ...   \n",
              "4         four        sedan          4wd           front        99.4  ...   \n",
              "\n",
              "   Engine_size  Fuel_system  Bore  Stroke Compression_ratio Horse_power  \\\n",
              "0          130         mpfi  3.47    2.68               9.0         111   \n",
              "1          130         mpfi  3.47    2.68               9.0         111   \n",
              "2          152         mpfi  2.68    3.47               9.0         154   \n",
              "3          109         mpfi  3.19    3.40              10.0         102   \n",
              "4          136         mpfi  3.19    3.40               8.0         115   \n",
              "\n",
              "   Peak_rpm City_mpg Highway_mpg  Price  \n",
              "0      5000       21          27  13495  \n",
              "1      5000       21          27  16500  \n",
              "2      5000       19          26  16500  \n",
              "3      5500       24          30  13950  \n",
              "4      5500       18          22  17450  \n",
              "\n",
              "[5 rows x 26 columns]"
            ],
            "text/html": [
              "\n",
              "  <div id=\"df-8a093bd8-a3fc-4e57-a608-192b3281c111\">\n",
              "    <div class=\"colab-df-container\">\n",
              "      <div>\n",
              "<style scoped>\n",
              "    .dataframe tbody tr th:only-of-type {\n",
              "        vertical-align: middle;\n",
              "    }\n",
              "\n",
              "    .dataframe tbody tr th {\n",
              "        vertical-align: top;\n",
              "    }\n",
              "\n",
              "    .dataframe thead th {\n",
              "        text-align: right;\n",
              "    }\n",
              "</style>\n",
              "<table border=\"1\" class=\"dataframe\">\n",
              "  <thead>\n",
              "    <tr style=\"text-align: right;\">\n",
              "      <th></th>\n",
              "      <th>Symbolizing</th>\n",
              "      <th>Normalized_losses</th>\n",
              "      <th>Make</th>\n",
              "      <th>Fuel_type</th>\n",
              "      <th>Aspiration</th>\n",
              "      <th>Num_of_doors</th>\n",
              "      <th>Body_style</th>\n",
              "      <th>Drive_wheels</th>\n",
              "      <th>Engine_location</th>\n",
              "      <th>Wheel_base</th>\n",
              "      <th>...</th>\n",
              "      <th>Engine_size</th>\n",
              "      <th>Fuel_system</th>\n",
              "      <th>Bore</th>\n",
              "      <th>Stroke</th>\n",
              "      <th>Compression_ratio</th>\n",
              "      <th>Horse_power</th>\n",
              "      <th>Peak_rpm</th>\n",
              "      <th>City_mpg</th>\n",
              "      <th>Highway_mpg</th>\n",
              "      <th>Price</th>\n",
              "    </tr>\n",
              "  </thead>\n",
              "  <tbody>\n",
              "    <tr>\n",
              "      <th>0</th>\n",
              "      <td>3</td>\n",
              "      <td>?</td>\n",
              "      <td>alfa-romero</td>\n",
              "      <td>gas</td>\n",
              "      <td>std</td>\n",
              "      <td>two</td>\n",
              "      <td>convertible</td>\n",
              "      <td>rwd</td>\n",
              "      <td>front</td>\n",
              "      <td>88.6</td>\n",
              "      <td>...</td>\n",
              "      <td>130</td>\n",
              "      <td>mpfi</td>\n",
              "      <td>3.47</td>\n",
              "      <td>2.68</td>\n",
              "      <td>9.0</td>\n",
              "      <td>111</td>\n",
              "      <td>5000</td>\n",
              "      <td>21</td>\n",
              "      <td>27</td>\n",
              "      <td>13495</td>\n",
              "    </tr>\n",
              "    <tr>\n",
              "      <th>1</th>\n",
              "      <td>3</td>\n",
              "      <td>?</td>\n",
              "      <td>alfa-romero</td>\n",
              "      <td>gas</td>\n",
              "      <td>std</td>\n",
              "      <td>two</td>\n",
              "      <td>convertible</td>\n",
              "      <td>rwd</td>\n",
              "      <td>front</td>\n",
              "      <td>88.6</td>\n",
              "      <td>...</td>\n",
              "      <td>130</td>\n",
              "      <td>mpfi</td>\n",
              "      <td>3.47</td>\n",
              "      <td>2.68</td>\n",
              "      <td>9.0</td>\n",
              "      <td>111</td>\n",
              "      <td>5000</td>\n",
              "      <td>21</td>\n",
              "      <td>27</td>\n",
              "      <td>16500</td>\n",
              "    </tr>\n",
              "    <tr>\n",
              "      <th>2</th>\n",
              "      <td>1</td>\n",
              "      <td>?</td>\n",
              "      <td>alfa-romero</td>\n",
              "      <td>gas</td>\n",
              "      <td>std</td>\n",
              "      <td>two</td>\n",
              "      <td>hatchback</td>\n",
              "      <td>rwd</td>\n",
              "      <td>front</td>\n",
              "      <td>94.5</td>\n",
              "      <td>...</td>\n",
              "      <td>152</td>\n",
              "      <td>mpfi</td>\n",
              "      <td>2.68</td>\n",
              "      <td>3.47</td>\n",
              "      <td>9.0</td>\n",
              "      <td>154</td>\n",
              "      <td>5000</td>\n",
              "      <td>19</td>\n",
              "      <td>26</td>\n",
              "      <td>16500</td>\n",
              "    </tr>\n",
              "    <tr>\n",
              "      <th>3</th>\n",
              "      <td>2</td>\n",
              "      <td>164</td>\n",
              "      <td>audi</td>\n",
              "      <td>gas</td>\n",
              "      <td>std</td>\n",
              "      <td>four</td>\n",
              "      <td>sedan</td>\n",
              "      <td>fwd</td>\n",
              "      <td>front</td>\n",
              "      <td>99.8</td>\n",
              "      <td>...</td>\n",
              "      <td>109</td>\n",
              "      <td>mpfi</td>\n",
              "      <td>3.19</td>\n",
              "      <td>3.40</td>\n",
              "      <td>10.0</td>\n",
              "      <td>102</td>\n",
              "      <td>5500</td>\n",
              "      <td>24</td>\n",
              "      <td>30</td>\n",
              "      <td>13950</td>\n",
              "    </tr>\n",
              "    <tr>\n",
              "      <th>4</th>\n",
              "      <td>2</td>\n",
              "      <td>164</td>\n",
              "      <td>audi</td>\n",
              "      <td>gas</td>\n",
              "      <td>std</td>\n",
              "      <td>four</td>\n",
              "      <td>sedan</td>\n",
              "      <td>4wd</td>\n",
              "      <td>front</td>\n",
              "      <td>99.4</td>\n",
              "      <td>...</td>\n",
              "      <td>136</td>\n",
              "      <td>mpfi</td>\n",
              "      <td>3.19</td>\n",
              "      <td>3.40</td>\n",
              "      <td>8.0</td>\n",
              "      <td>115</td>\n",
              "      <td>5500</td>\n",
              "      <td>18</td>\n",
              "      <td>22</td>\n",
              "      <td>17450</td>\n",
              "    </tr>\n",
              "  </tbody>\n",
              "</table>\n",
              "<p>5 rows × 26 columns</p>\n",
              "</div>\n",
              "      <button class=\"colab-df-convert\" onclick=\"convertToInteractive('df-8a093bd8-a3fc-4e57-a608-192b3281c111')\"\n",
              "              title=\"Convert this dataframe to an interactive table.\"\n",
              "              style=\"display:none;\">\n",
              "        \n",
              "  <svg xmlns=\"http://www.w3.org/2000/svg\" height=\"24px\"viewBox=\"0 0 24 24\"\n",
              "       width=\"24px\">\n",
              "    <path d=\"M0 0h24v24H0V0z\" fill=\"none\"/>\n",
              "    <path d=\"M18.56 5.44l.94 2.06.94-2.06 2.06-.94-2.06-.94-.94-2.06-.94 2.06-2.06.94zm-11 1L8.5 8.5l.94-2.06 2.06-.94-2.06-.94L8.5 2.5l-.94 2.06-2.06.94zm10 10l.94 2.06.94-2.06 2.06-.94-2.06-.94-.94-2.06-.94 2.06-2.06.94z\"/><path d=\"M17.41 7.96l-1.37-1.37c-.4-.4-.92-.59-1.43-.59-.52 0-1.04.2-1.43.59L10.3 9.45l-7.72 7.72c-.78.78-.78 2.05 0 2.83L4 21.41c.39.39.9.59 1.41.59.51 0 1.02-.2 1.41-.59l7.78-7.78 2.81-2.81c.8-.78.8-2.07 0-2.86zM5.41 20L4 18.59l7.72-7.72 1.47 1.35L5.41 20z\"/>\n",
              "  </svg>\n",
              "      </button>\n",
              "      \n",
              "  <style>\n",
              "    .colab-df-container {\n",
              "      display:flex;\n",
              "      flex-wrap:wrap;\n",
              "      gap: 12px;\n",
              "    }\n",
              "\n",
              "    .colab-df-convert {\n",
              "      background-color: #E8F0FE;\n",
              "      border: none;\n",
              "      border-radius: 50%;\n",
              "      cursor: pointer;\n",
              "      display: none;\n",
              "      fill: #1967D2;\n",
              "      height: 32px;\n",
              "      padding: 0 0 0 0;\n",
              "      width: 32px;\n",
              "    }\n",
              "\n",
              "    .colab-df-convert:hover {\n",
              "      background-color: #E2EBFA;\n",
              "      box-shadow: 0px 1px 2px rgba(60, 64, 67, 0.3), 0px 1px 3px 1px rgba(60, 64, 67, 0.15);\n",
              "      fill: #174EA6;\n",
              "    }\n",
              "\n",
              "    [theme=dark] .colab-df-convert {\n",
              "      background-color: #3B4455;\n",
              "      fill: #D2E3FC;\n",
              "    }\n",
              "\n",
              "    [theme=dark] .colab-df-convert:hover {\n",
              "      background-color: #434B5C;\n",
              "      box-shadow: 0px 1px 3px 1px rgba(0, 0, 0, 0.15);\n",
              "      filter: drop-shadow(0px 1px 2px rgba(0, 0, 0, 0.3));\n",
              "      fill: #FFFFFF;\n",
              "    }\n",
              "  </style>\n",
              "\n",
              "      <script>\n",
              "        const buttonEl =\n",
              "          document.querySelector('#df-8a093bd8-a3fc-4e57-a608-192b3281c111 button.colab-df-convert');\n",
              "        buttonEl.style.display =\n",
              "          google.colab.kernel.accessAllowed ? 'block' : 'none';\n",
              "\n",
              "        async function convertToInteractive(key) {\n",
              "          const element = document.querySelector('#df-8a093bd8-a3fc-4e57-a608-192b3281c111');\n",
              "          const dataTable =\n",
              "            await google.colab.kernel.invokeFunction('convertToInteractive',\n",
              "                                                     [key], {});\n",
              "          if (!dataTable) return;\n",
              "\n",
              "          const docLinkHtml = 'Like what you see? Visit the ' +\n",
              "            '<a target=\"_blank\" href=https://colab.research.google.com/notebooks/data_table.ipynb>data table notebook</a>'\n",
              "            + ' to learn more about interactive tables.';\n",
              "          element.innerHTML = '';\n",
              "          dataTable['output_type'] = 'display_data';\n",
              "          await google.colab.output.renderOutput(dataTable, element);\n",
              "          const docLink = document.createElement('div');\n",
              "          docLink.innerHTML = docLinkHtml;\n",
              "          element.appendChild(docLink);\n",
              "        }\n",
              "      </script>\n",
              "    </div>\n",
              "  </div>\n",
              "  "
            ]
          },
          "metadata": {},
          "execution_count": 75
        }
      ]
    },
    {
      "cell_type": "code",
      "source": [
        "data.info()\n"
      ],
      "metadata": {
        "colab": {
          "base_uri": "https://localhost:8080/"
        },
        "id": "hChPFcwTOIOK",
        "outputId": "0f62e51f-176a-4b8d-ff77-95603e2d2879"
      },
      "execution_count": null,
      "outputs": [
        {
          "output_type": "stream",
          "name": "stdout",
          "text": [
            "<class 'pandas.core.frame.DataFrame'>\n",
            "RangeIndex: 205 entries, 0 to 204\n",
            "Data columns (total 26 columns):\n",
            " #   Column             Non-Null Count  Dtype  \n",
            "---  ------             --------------  -----  \n",
            " 0   Symbolizing        205 non-null    int64  \n",
            " 1   Normalized_losses  205 non-null    float64\n",
            " 2   Make               205 non-null    object \n",
            " 3   Fuel_type          205 non-null    object \n",
            " 4   Aspiration         205 non-null    object \n",
            " 5   Num_of_doors       205 non-null    object \n",
            " 6   Body_style         205 non-null    object \n",
            " 7   Drive_wheels       205 non-null    object \n",
            " 8   Engine_location    205 non-null    object \n",
            " 9   Wheel_base         205 non-null    float64\n",
            " 10  Length             205 non-null    float64\n",
            " 11  Width              205 non-null    float64\n",
            " 12  Heigth             205 non-null    float64\n",
            " 13  Curb_weight        205 non-null    int64  \n",
            " 14  Engine_type        205 non-null    object \n",
            " 15  Num_of_cylinders   205 non-null    object \n",
            " 16  Engine_size        205 non-null    int64  \n",
            " 17  Fuel_system        205 non-null    object \n",
            " 18  Bore               205 non-null    float64\n",
            " 19  Stroke             205 non-null    float64\n",
            " 20  Compression_ratio  205 non-null    float64\n",
            " 21  Horse_power        205 non-null    float64\n",
            " 22  Peak_rpm           205 non-null    float64\n",
            " 23  City_mpg           205 non-null    int64  \n",
            " 24  Highway_mpg        205 non-null    int64  \n",
            " 25  Price              205 non-null    float64\n",
            "dtypes: float64(11), int64(5), object(10)\n",
            "memory usage: 41.8+ KB\n"
          ]
        }
      ]
    },
    {
      "cell_type": "code",
      "source": [
        "data['Normalized_losses'] = pd.to_numeric(data['Normalized_losses'], errors = 'coerce')\n",
        "\n",
        "to_convert = ['Bore', 'Stroke', 'Horse_power', 'Peak_rpm', 'Price']\n",
        "\n",
        "for i in to_convert:\n",
        "  data[i] = pd.to_numeric(data[i], errors = 'coerce')\n"
      ],
      "metadata": {
        "id": "qsSNv-unQ4hn"
      },
      "execution_count": null,
      "outputs": []
    },
    {
      "cell_type": "code",
      "source": [
        "data['Normalized_losses'] = data['Normalized_losses'].fillna(0)\n",
        "\n",
        "for i in to_convert:\n",
        "  data[i] = data[i].fillna(0)\n",
        "\n",
        "\n",
        "data[\"Normalized_losses\"]"
      ],
      "metadata": {
        "colab": {
          "base_uri": "https://localhost:8080/"
        },
        "id": "Dfis84R6VCby",
        "outputId": "6d1b3c38-b89b-4a1c-e1b7-62566ebc271d"
      },
      "execution_count": null,
      "outputs": [
        {
          "output_type": "execute_result",
          "data": {
            "text/plain": [
              "0        0.0\n",
              "1        0.0\n",
              "2        0.0\n",
              "3      164.0\n",
              "4      164.0\n",
              "       ...  \n",
              "200     95.0\n",
              "201     95.0\n",
              "202     95.0\n",
              "203     95.0\n",
              "204     95.0\n",
              "Name: Normalized_losses, Length: 205, dtype: float64"
            ]
          },
          "metadata": {},
          "execution_count": 77
        }
      ]
    },
    {
      "cell_type": "markdown",
      "source": [
        "###Baseline Global (Variable Dependiente)"
      ],
      "metadata": {
        "id": "3CWbe2hH-hvX"
      }
    },
    {
      "cell_type": "code",
      "source": [
        "plt.figure(figsize=(8,8))\n",
        "sns.countplot(x=\"Symbolizing\", data=data)\n"
      ],
      "metadata": {
        "id": "Uj3Z70oyDC1S",
        "colab": {
          "base_uri": "https://localhost:8080/",
          "height": 516
        },
        "outputId": "7a6797b4-5eb5-4d6e-d96f-21d3b5604330"
      },
      "execution_count": null,
      "outputs": [
        {
          "output_type": "execute_result",
          "data": {
            "text/plain": [
              "<AxesSubplot:xlabel='Symbolizing', ylabel='count'>"
            ]
          },
          "metadata": {},
          "execution_count": 20
        },
        {
          "output_type": "display_data",
          "data": {
            "text/plain": [
              "<Figure size 576x576 with 1 Axes>"
            ],
            "image/png": "[encoded data removed]"
          },
          "metadata": {
            "needs_background": "light"
          }
        }
      ]
    },
    {
      "cell_type": "markdown",
      "source": [
        "Se puede observar que no hay ningun carro dentro del nivel de riesgo -3. Ademas, la cantidad de carros dentro de los niveles negativos hacen parte de la minoria significativa, la mayoria estando en 0 de adelante. \n",
        "\n",
        "Esto quiere decir que, al momento de predecir el nivel de riesgo, es posible que el modelo se equivoque mas en los valores negativos, ya que hay poca o inexistente cantidad de datos"
      ],
      "metadata": {
        "id": "u6eMhRAQT6YX"
      }
    },
    {
      "cell_type": "markdown",
      "source": [
        "### Cantidades Variables Categoricas"
      ],
      "metadata": {
        "id": "eWvcsW_U_77K"
      }
    },
    {
      "cell_type": "code",
      "source": [
        "cat_vars = ['Make', 'Fuel_type', 'Aspiration', 'Num_of_doors','Body_style', 'Drive_wheels', 'Engine_location', 'Engine_type', 'Fuel_system', 'Num_of_cylinders']\n"
      ],
      "metadata": {
        "id": "MofqfOqOo2Pi"
      },
      "execution_count": null,
      "outputs": []
    },
    {
      "cell_type": "markdown",
      "source": [
        "#### Make"
      ],
      "metadata": {
        "id": "TsaWFin6_TDb"
      }
    },
    {
      "cell_type": "code",
      "source": [
        "plt.figure(figsize=(25,4))\n",
        "sns.countplot(x=cat_vars[0], data=data)"
      ],
      "metadata": {
        "colab": {
          "base_uri": "https://localhost:8080/",
          "height": 296
        },
        "id": "BGpt6vg45Vxg",
        "outputId": "116d9d57-433e-40bd-861f-e648aa61c7dc"
      },
      "execution_count": null,
      "outputs": [
        {
          "output_type": "execute_result",
          "data": {
            "text/plain": [
              "<AxesSubplot:xlabel='Make', ylabel='count'>"
            ]
          },
          "metadata": {},
          "execution_count": 22
        },
        {
          "output_type": "display_data",
          "data": {
            "text/plain": [
              "<Figure size 1800x288 with 1 Axes>"
            ],
            "image/png": "[encoded data removed]"
          },
          "metadata": {
            "needs_background": "light"
          }
        }
      ]
    },
    {
      "cell_type": "markdown",
      "source": [
        "El modelo tendra mas informacion sobre carros de marca toyota que de marca mercurio o renault"
      ],
      "metadata": {
        "id": "xJyM_HLB6UXD"
      }
    },
    {
      "cell_type": "markdown",
      "source": [
        "#### Fuel_type"
      ],
      "metadata": {
        "id": "1EC11ks6_WLg"
      }
    },
    {
      "cell_type": "code",
      "source": [
        "plt.figure(figsize=(25,4))\n",
        "sns.countplot(x=cat_vars[1], data=data)"
      ],
      "metadata": {
        "colab": {
          "base_uri": "https://localhost:8080/",
          "height": 297
        },
        "id": "V0k2YGaT52eS",
        "outputId": "75ebe57b-722e-442b-b6e0-48577abfc18d"
      },
      "execution_count": null,
      "outputs": [
        {
          "output_type": "execute_result",
          "data": {
            "text/plain": [
              "<AxesSubplot:xlabel='Fuel_type', ylabel='count'>"
            ]
          },
          "metadata": {},
          "execution_count": 23
        },
        {
          "output_type": "display_data",
          "data": {
            "text/plain": [
              "<Figure size 1800x288 with 1 Axes>"
            ],
            "image/png": "[encoded data removed]"
          },
          "metadata": {
            "needs_background": "light"
          }
        }
      ]
    },
    {
      "cell_type": "code",
      "source": [
        "pd.crosstab(index=data[\"Fuel_type\"], columns=\"count\")"
      ],
      "metadata": {
        "colab": {
          "base_uri": "https://localhost:8080/",
          "height": 143
        },
        "id": "meYn12an9Y0q",
        "outputId": "fc7842ae-7b05-40ba-e71d-18634b2f5ad5"
      },
      "execution_count": null,
      "outputs": [
        {
          "output_type": "execute_result",
          "data": {
            "text/plain": [
              "col_0      count\n",
              "Fuel_type       \n",
              "diesel        20\n",
              "gas          185"
            ],
            "text/html": [
              "\n",
              "  <div id=\"df-0c9d3c47-603f-4ec3-ae1c-361ad59c60ed\">\n",
              "    <div class=\"colab-df-container\">\n",
              "      <div>\n",
              "<style scoped>\n",
              "    .dataframe tbody tr th:only-of-type {\n",
              "        vertical-align: middle;\n",
              "    }\n",
              "\n",
              "    .dataframe tbody tr th {\n",
              "        vertical-align: top;\n",
              "    }\n",
              "\n",
              "    .dataframe thead th {\n",
              "        text-align: right;\n",
              "    }\n",
              "</style>\n",
              "<table border=\"1\" class=\"dataframe\">\n",
              "  <thead>\n",
              "    <tr style=\"text-align: right;\">\n",
              "      <th>col_0</th>\n",
              "      <th>count</th>\n",
              "    </tr>\n",
              "    <tr>\n",
              "      <th>Fuel_type</th>\n",
              "      <th></th>\n",
              "    </tr>\n",
              "  </thead>\n",
              "  <tbody>\n",
              "    <tr>\n",
              "      <th>diesel</th>\n",
              "      <td>20</td>\n",
              "    </tr>\n",
              "    <tr>\n",
              "      <th>gas</th>\n",
              "      <td>185</td>\n",
              "    </tr>\n",
              "  </tbody>\n",
              "</table>\n",
              "</div>\n",
              "      <button class=\"colab-df-convert\" onclick=\"convertToInteractive('df-0c9d3c47-603f-4ec3-ae1c-361ad59c60ed')\"\n",
              "              title=\"Convert this dataframe to an interactive table.\"\n",
              "              style=\"display:none;\">\n",
              "        \n",
              "  <svg xmlns=\"http://www.w3.org/2000/svg\" height=\"24px\"viewBox=\"0 0 24 24\"\n",
              "       width=\"24px\">\n",
              "    <path d=\"M0 0h24v24H0V0z\" fill=\"none\"/>\n",
              "    <path d=\"M18.56 5.44l.94 2.06.94-2.06 2.06-.94-2.06-.94-.94-2.06-.94 2.06-2.06.94zm-11 1L8.5 8.5l.94-2.06 2.06-.94-2.06-.94L8.5 2.5l-.94 2.06-2.06.94zm10 10l.94 2.06.94-2.06 2.06-.94-2.06-.94-.94-2.06-.94 2.06-2.06.94z\"/><path d=\"M17.41 7.96l-1.37-1.37c-.4-.4-.92-.59-1.43-.59-.52 0-1.04.2-1.43.59L10.3 9.45l-7.72 7.72c-.78.78-.78 2.05 0 2.83L4 21.41c.39.39.9.59 1.41.59.51 0 1.02-.2 1.41-.59l7.78-7.78 2.81-2.81c.8-.78.8-2.07 0-2.86zM5.41 20L4 18.59l7.72-7.72 1.47 1.35L5.41 20z\"/>\n",
              "  </svg>\n",
              "      </button>\n",
              "      \n",
              "  <style>\n",
              "    .colab-df-container {\n",
              "      display:flex;\n",
              "      flex-wrap:wrap;\n",
              "      gap: 12px;\n",
              "    }\n",
              "\n",
              "    .colab-df-convert {\n",
              "      background-color: #E8F0FE;\n",
              "      border: none;\n",
              "      border-radius: 50%;\n",
              "      cursor: pointer;\n",
              "      display: none;\n",
              "      fill: #1967D2;\n",
              "      height: 32px;\n",
              "      padding: 0 0 0 0;\n",
              "      width: 32px;\n",
              "    }\n",
              "\n",
              "    .colab-df-convert:hover {\n",
              "      background-color: #E2EBFA;\n",
              "      box-shadow: 0px 1px 2px rgba(60, 64, 67, 0.3), 0px 1px 3px 1px rgba(60, 64, 67, 0.15);\n",
              "      fill: #174EA6;\n",
              "    }\n",
              "\n",
              "    [theme=dark] .colab-df-convert {\n",
              "      background-color: #3B4455;\n",
              "      fill: #D2E3FC;\n",
              "    }\n",
              "\n",
              "    [theme=dark] .colab-df-convert:hover {\n",
              "      background-color: #434B5C;\n",
              "      box-shadow: 0px 1px 3px 1px rgba(0, 0, 0, 0.15);\n",
              "      filter: drop-shadow(0px 1px 2px rgba(0, 0, 0, 0.3));\n",
              "      fill: #FFFFFF;\n",
              "    }\n",
              "  </style>\n",
              "\n",
              "      <script>\n",
              "        const buttonEl =\n",
              "          document.querySelector('#df-0c9d3c47-603f-4ec3-ae1c-361ad59c60ed button.colab-df-convert');\n",
              "        buttonEl.style.display =\n",
              "          google.colab.kernel.accessAllowed ? 'block' : 'none';\n",
              "\n",
              "        async function convertToInteractive(key) {\n",
              "          const element = document.querySelector('#df-0c9d3c47-603f-4ec3-ae1c-361ad59c60ed');\n",
              "          const dataTable =\n",
              "            await google.colab.kernel.invokeFunction('convertToInteractive',\n",
              "                                                     [key], {});\n",
              "          if (!dataTable) return;\n",
              "\n",
              "          const docLinkHtml = 'Like what you see? Visit the ' +\n",
              "            '<a target=\"_blank\" href=https://colab.research.google.com/notebooks/data_table.ipynb>data table notebook</a>'\n",
              "            + ' to learn more about interactive tables.';\n",
              "          element.innerHTML = '';\n",
              "          dataTable['output_type'] = 'display_data';\n",
              "          await google.colab.output.renderOutput(dataTable, element);\n",
              "          const docLink = document.createElement('div');\n",
              "          docLink.innerHTML = docLinkHtml;\n",
              "          element.appendChild(docLink);\n",
              "        }\n",
              "      </script>\n",
              "    </div>\n",
              "  </div>\n",
              "  "
            ]
          },
          "metadata": {},
          "execution_count": 24
        }
      ]
    },
    {
      "cell_type": "markdown",
      "source": [
        "la gran mayoria de carros utilizan gas. En el caso que la correlacion entre riesgo cuando se utilice diesel no sea significante, esta variable puede que no sea muy util"
      ],
      "metadata": {
        "id": "bIh81EmO6dSh"
      }
    },
    {
      "cell_type": "markdown",
      "source": [
        "#### Aspiration"
      ],
      "metadata": {
        "id": "uDz0q4Sc_bK7"
      }
    },
    {
      "cell_type": "code",
      "source": [
        "plt.figure(figsize=(25,4))\n",
        "sns.countplot(x=cat_vars[2], data=data)"
      ],
      "metadata": {
        "colab": {
          "base_uri": "https://localhost:8080/",
          "height": 296
        },
        "id": "rLgAs65b546i",
        "outputId": "9ce3bb39-2064-4256-ee79-4b49fedaf504"
      },
      "execution_count": null,
      "outputs": [
        {
          "output_type": "execute_result",
          "data": {
            "text/plain": [
              "<AxesSubplot:xlabel='Aspiration', ylabel='count'>"
            ]
          },
          "metadata": {},
          "execution_count": 25
        },
        {
          "output_type": "display_data",
          "data": {
            "text/plain": [
              "<Figure size 1800x288 with 1 Axes>"
            ],
            "image/png": "[encoded data removed]"
          },
          "metadata": {
            "needs_background": "light"
          }
        }
      ]
    },
    {
      "cell_type": "markdown",
      "source": [
        "De forma similar al punto anterior, seria importante enfocarse en esta variable si el uso de turbo aumenta o disminuye el riesgo repetitivamente"
      ],
      "metadata": {
        "id": "7Xmymn7C6sV2"
      }
    },
    {
      "cell_type": "markdown",
      "source": [
        "#### Num_of_doors"
      ],
      "metadata": {
        "id": "QiI5_VPa_dIm"
      }
    },
    {
      "cell_type": "code",
      "source": [
        "plt.figure(figsize=(25,4))\n",
        "sns.countplot(x=cat_vars[3], data=data)"
      ],
      "metadata": {
        "colab": {
          "base_uri": "https://localhost:8080/",
          "height": 297
        },
        "id": "kWzFR_ge56oG",
        "outputId": "33496e6a-ad3f-457f-9cf0-66e50d2456ce"
      },
      "execution_count": null,
      "outputs": [
        {
          "output_type": "execute_result",
          "data": {
            "text/plain": [
              "<AxesSubplot:xlabel='Num_of_doors', ylabel='count'>"
            ]
          },
          "metadata": {},
          "execution_count": 26
        },
        {
          "output_type": "display_data",
          "data": {
            "text/plain": [
              "<Figure size 1800x288 with 1 Axes>"
            ],
            "image/png": "[encoded data removed]"
          },
          "metadata": {
            "needs_background": "light"
          }
        }
      ]
    },
    {
      "cell_type": "code",
      "source": [
        "pd.crosstab(index=data[\"Num_of_doors\"], columns=\"count\")"
      ],
      "metadata": {
        "colab": {
          "base_uri": "https://localhost:8080/",
          "height": 175
        },
        "id": "1cFwaqA29BSB",
        "outputId": "79a0fc39-8643-4038-8e54-e9caabb0255a"
      },
      "execution_count": null,
      "outputs": [
        {
          "output_type": "execute_result",
          "data": {
            "text/plain": [
              "col_0         count\n",
              "Num_of_doors       \n",
              "?                 2\n",
              "four            114\n",
              "two              89"
            ],
            "text/html": [
              "\n",
              "  <div id=\"df-665b9336-ebbe-4c4f-8bdc-6113ebdb6a84\">\n",
              "    <div class=\"colab-df-container\">\n",
              "      <div>\n",
              "<style scoped>\n",
              "    .dataframe tbody tr th:only-of-type {\n",
              "        vertical-align: middle;\n",
              "    }\n",
              "\n",
              "    .dataframe tbody tr th {\n",
              "        vertical-align: top;\n",
              "    }\n",
              "\n",
              "    .dataframe thead th {\n",
              "        text-align: right;\n",
              "    }\n",
              "</style>\n",
              "<table border=\"1\" class=\"dataframe\">\n",
              "  <thead>\n",
              "    <tr style=\"text-align: right;\">\n",
              "      <th>col_0</th>\n",
              "      <th>count</th>\n",
              "    </tr>\n",
              "    <tr>\n",
              "      <th>Num_of_doors</th>\n",
              "      <th></th>\n",
              "    </tr>\n",
              "  </thead>\n",
              "  <tbody>\n",
              "    <tr>\n",
              "      <th>?</th>\n",
              "      <td>2</td>\n",
              "    </tr>\n",
              "    <tr>\n",
              "      <th>four</th>\n",
              "      <td>114</td>\n",
              "    </tr>\n",
              "    <tr>\n",
              "      <th>two</th>\n",
              "      <td>89</td>\n",
              "    </tr>\n",
              "  </tbody>\n",
              "</table>\n",
              "</div>\n",
              "      <button class=\"colab-df-convert\" onclick=\"convertToInteractive('df-665b9336-ebbe-4c4f-8bdc-6113ebdb6a84')\"\n",
              "              title=\"Convert this dataframe to an interactive table.\"\n",
              "              style=\"display:none;\">\n",
              "        \n",
              "  <svg xmlns=\"http://www.w3.org/2000/svg\" height=\"24px\"viewBox=\"0 0 24 24\"\n",
              "       width=\"24px\">\n",
              "    <path d=\"M0 0h24v24H0V0z\" fill=\"none\"/>\n",
              "    <path d=\"M18.56 5.44l.94 2.06.94-2.06 2.06-.94-2.06-.94-.94-2.06-.94 2.06-2.06.94zm-11 1L8.5 8.5l.94-2.06 2.06-.94-2.06-.94L8.5 2.5l-.94 2.06-2.06.94zm10 10l.94 2.06.94-2.06 2.06-.94-2.06-.94-.94-2.06-.94 2.06-2.06.94z\"/><path d=\"M17.41 7.96l-1.37-1.37c-.4-.4-.92-.59-1.43-.59-.52 0-1.04.2-1.43.59L10.3 9.45l-7.72 7.72c-.78.78-.78 2.05 0 2.83L4 21.41c.39.39.9.59 1.41.59.51 0 1.02-.2 1.41-.59l7.78-7.78 2.81-2.81c.8-.78.8-2.07 0-2.86zM5.41 20L4 18.59l7.72-7.72 1.47 1.35L5.41 20z\"/>\n",
              "  </svg>\n",
              "      </button>\n",
              "      \n",
              "  <style>\n",
              "    .colab-df-container {\n",
              "      display:flex;\n",
              "      flex-wrap:wrap;\n",
              "      gap: 12px;\n",
              "    }\n",
              "\n",
              "    .colab-df-convert {\n",
              "      background-color: #E8F0FE;\n",
              "      border: none;\n",
              "      border-radius: 50%;\n",
              "      cursor: pointer;\n",
              "      display: none;\n",
              "      fill: #1967D2;\n",
              "      height: 32px;\n",
              "      padding: 0 0 0 0;\n",
              "      width: 32px;\n",
              "    }\n",
              "\n",
              "    .colab-df-convert:hover {\n",
              "      background-color: #E2EBFA;\n",
              "      box-shadow: 0px 1px 2px rgba(60, 64, 67, 0.3), 0px 1px 3px 1px rgba(60, 64, 67, 0.15);\n",
              "      fill: #174EA6;\n",
              "    }\n",
              "\n",
              "    [theme=dark] .colab-df-convert {\n",
              "      background-color: #3B4455;\n",
              "      fill: #D2E3FC;\n",
              "    }\n",
              "\n",
              "    [theme=dark] .colab-df-convert:hover {\n",
              "      background-color: #434B5C;\n",
              "      box-shadow: 0px 1px 3px 1px rgba(0, 0, 0, 0.15);\n",
              "      filter: drop-shadow(0px 1px 2px rgba(0, 0, 0, 0.3));\n",
              "      fill: #FFFFFF;\n",
              "    }\n",
              "  </style>\n",
              "\n",
              "      <script>\n",
              "        const buttonEl =\n",
              "          document.querySelector('#df-665b9336-ebbe-4c4f-8bdc-6113ebdb6a84 button.colab-df-convert');\n",
              "        buttonEl.style.display =\n",
              "          google.colab.kernel.accessAllowed ? 'block' : 'none';\n",
              "\n",
              "        async function convertToInteractive(key) {\n",
              "          const element = document.querySelector('#df-665b9336-ebbe-4c4f-8bdc-6113ebdb6a84');\n",
              "          const dataTable =\n",
              "            await google.colab.kernel.invokeFunction('convertToInteractive',\n",
              "                                                     [key], {});\n",
              "          if (!dataTable) return;\n",
              "\n",
              "          const docLinkHtml = 'Like what you see? Visit the ' +\n",
              "            '<a target=\"_blank\" href=https://colab.research.google.com/notebooks/data_table.ipynb>data table notebook</a>'\n",
              "            + ' to learn more about interactive tables.';\n",
              "          element.innerHTML = '';\n",
              "          dataTable['output_type'] = 'display_data';\n",
              "          await google.colab.output.renderOutput(dataTable, element);\n",
              "          const docLink = document.createElement('div');\n",
              "          docLink.innerHTML = docLinkHtml;\n",
              "          element.appendChild(docLink);\n",
              "        }\n",
              "      </script>\n",
              "    </div>\n",
              "  </div>\n",
              "  "
            ]
          },
          "metadata": {},
          "execution_count": 27
        }
      ]
    },
    {
      "cell_type": "markdown",
      "source": [
        "Aqui empiezan a aparecer los errores, por el lado de las variables cualitativas. La cantidad de estos es minima, asi que no es necesario borrar la variable entera. Sin embargo, ya que un vehiculo utiliza pares de ruedas, se podra suponer que el campo (?) significa \"seis o mas\" o \"anormal\". Aun asi, seria una poblacion muy pequeña para generar un peso significativo en el modelo"
      ],
      "metadata": {
        "id": "CSP4Udo86-CK"
      }
    },
    {
      "cell_type": "markdown",
      "source": [
        "#### Body_style"
      ],
      "metadata": {
        "id": "HhVD_ywB_fj0"
      }
    },
    {
      "cell_type": "code",
      "source": [
        "plt.figure(figsize=(25,4))\n",
        "sns.countplot(x=cat_vars[4], data=data)"
      ],
      "metadata": {
        "colab": {
          "base_uri": "https://localhost:8080/",
          "height": 300
        },
        "id": "kH657MG_57PQ",
        "outputId": "1da3b67f-e6b7-46b9-80c1-1198a89bfa35"
      },
      "execution_count": null,
      "outputs": [
        {
          "output_type": "execute_result",
          "data": {
            "text/plain": [
              "<AxesSubplot:xlabel='Body_style', ylabel='count'>"
            ]
          },
          "metadata": {},
          "execution_count": 28
        },
        {
          "output_type": "display_data",
          "data": {
            "text/plain": [
              "<Figure size 1800x288 with 1 Axes>"
            ],
            "image/png": "[encoded data removed]"
          },
          "metadata": {
            "needs_background": "light"
          }
        }
      ]
    },
    {
      "cell_type": "markdown",
      "source": [
        "Similar a los primeros puntos analizados, hay poca cantidad de convertibles y \"coraza dura\"."
      ],
      "metadata": {
        "id": "cwtKhl0D7l60"
      }
    },
    {
      "cell_type": "markdown",
      "source": [
        "#### Drive_wheels"
      ],
      "metadata": {
        "id": "N7rTW5wB_ihd"
      }
    },
    {
      "cell_type": "code",
      "source": [
        "plt.figure(figsize=(25,4))\n",
        "sns.countplot(x=cat_vars[5], data=data)"
      ],
      "metadata": {
        "colab": {
          "base_uri": "https://localhost:8080/",
          "height": 297
        },
        "id": "vaB-U35x57cZ",
        "outputId": "eefe22ac-4158-4359-8c07-6a2f0aab1a19"
      },
      "execution_count": null,
      "outputs": [
        {
          "output_type": "execute_result",
          "data": {
            "text/plain": [
              "<AxesSubplot:xlabel='Drive_wheels', ylabel='count'>"
            ]
          },
          "metadata": {},
          "execution_count": 29
        },
        {
          "output_type": "display_data",
          "data": {
            "text/plain": [
              "<Figure size 1800x288 with 1 Axes>"
            ],
            "image/png": "[encoded data removed]"
          },
          "metadata": {
            "needs_background": "light"
          }
        }
      ]
    },
    {
      "cell_type": "markdown",
      "source": [
        "nada nuevo..."
      ],
      "metadata": {
        "id": "c_iplE999Tz3"
      }
    },
    {
      "cell_type": "markdown",
      "source": [
        "#### Engine_location"
      ],
      "metadata": {
        "id": "U6rb2z2y_kSp"
      }
    },
    {
      "cell_type": "code",
      "source": [
        "plt.figure(figsize=(25,4))\n",
        "sns.countplot(x=cat_vars[6], data=data)"
      ],
      "metadata": {
        "colab": {
          "base_uri": "https://localhost:8080/",
          "height": 297
        },
        "id": "1UH1bDBG57oi",
        "outputId": "5f350d69-ee0c-412c-cf44-9982ba719a40"
      },
      "execution_count": null,
      "outputs": [
        {
          "output_type": "execute_result",
          "data": {
            "text/plain": [
              "<AxesSubplot:xlabel='Engine_location', ylabel='count'>"
            ]
          },
          "metadata": {},
          "execution_count": 30
        },
        {
          "output_type": "display_data",
          "data": {
            "text/plain": [
              "<Figure size 1800x288 with 1 Axes>"
            ],
            "image/png": "[encoded data removed]"
          },
          "metadata": {
            "needs_background": "light"
          }
        }
      ]
    },
    {
      "cell_type": "code",
      "source": [
        "pd.crosstab(index=data[\"Engine_location\"], columns=\"count\")"
      ],
      "metadata": {
        "colab": {
          "base_uri": "https://localhost:8080/",
          "height": 143
        },
        "id": "mHXT9Z_18FjZ",
        "outputId": "b8cd5425-0659-4c93-fee6-ff88fdadb3a8"
      },
      "execution_count": null,
      "outputs": [
        {
          "output_type": "execute_result",
          "data": {
            "text/plain": [
              "col_0            count\n",
              "Engine_location       \n",
              "front              202\n",
              "rear                 3"
            ],
            "text/html": [
              "\n",
              "  <div id=\"df-3241e7ea-7754-424f-ba05-218fdce05ad7\">\n",
              "    <div class=\"colab-df-container\">\n",
              "      <div>\n",
              "<style scoped>\n",
              "    .dataframe tbody tr th:only-of-type {\n",
              "        vertical-align: middle;\n",
              "    }\n",
              "\n",
              "    .dataframe tbody tr th {\n",
              "        vertical-align: top;\n",
              "    }\n",
              "\n",
              "    .dataframe thead th {\n",
              "        text-align: right;\n",
              "    }\n",
              "</style>\n",
              "<table border=\"1\" class=\"dataframe\">\n",
              "  <thead>\n",
              "    <tr style=\"text-align: right;\">\n",
              "      <th>col_0</th>\n",
              "      <th>count</th>\n",
              "    </tr>\n",
              "    <tr>\n",
              "      <th>Engine_location</th>\n",
              "      <th></th>\n",
              "    </tr>\n",
              "  </thead>\n",
              "  <tbody>\n",
              "    <tr>\n",
              "      <th>front</th>\n",
              "      <td>202</td>\n",
              "    </tr>\n",
              "    <tr>\n",
              "      <th>rear</th>\n",
              "      <td>3</td>\n",
              "    </tr>\n",
              "  </tbody>\n",
              "</table>\n",
              "</div>\n",
              "      <button class=\"colab-df-convert\" onclick=\"convertToInteractive('df-3241e7ea-7754-424f-ba05-218fdce05ad7')\"\n",
              "              title=\"Convert this dataframe to an interactive table.\"\n",
              "              style=\"display:none;\">\n",
              "        \n",
              "  <svg xmlns=\"http://www.w3.org/2000/svg\" height=\"24px\"viewBox=\"0 0 24 24\"\n",
              "       width=\"24px\">\n",
              "    <path d=\"M0 0h24v24H0V0z\" fill=\"none\"/>\n",
              "    <path d=\"M18.56 5.44l.94 2.06.94-2.06 2.06-.94-2.06-.94-.94-2.06-.94 2.06-2.06.94zm-11 1L8.5 8.5l.94-2.06 2.06-.94-2.06-.94L8.5 2.5l-.94 2.06-2.06.94zm10 10l.94 2.06.94-2.06 2.06-.94-2.06-.94-.94-2.06-.94 2.06-2.06.94z\"/><path d=\"M17.41 7.96l-1.37-1.37c-.4-.4-.92-.59-1.43-.59-.52 0-1.04.2-1.43.59L10.3 9.45l-7.72 7.72c-.78.78-.78 2.05 0 2.83L4 21.41c.39.39.9.59 1.41.59.51 0 1.02-.2 1.41-.59l7.78-7.78 2.81-2.81c.8-.78.8-2.07 0-2.86zM5.41 20L4 18.59l7.72-7.72 1.47 1.35L5.41 20z\"/>\n",
              "  </svg>\n",
              "      </button>\n",
              "      \n",
              "  <style>\n",
              "    .colab-df-container {\n",
              "      display:flex;\n",
              "      flex-wrap:wrap;\n",
              "      gap: 12px;\n",
              "    }\n",
              "\n",
              "    .colab-df-convert {\n",
              "      background-color: #E8F0FE;\n",
              "      border: none;\n",
              "      border-radius: 50%;\n",
              "      cursor: pointer;\n",
              "      display: none;\n",
              "      fill: #1967D2;\n",
              "      height: 32px;\n",
              "      padding: 0 0 0 0;\n",
              "      width: 32px;\n",
              "    }\n",
              "\n",
              "    .colab-df-convert:hover {\n",
              "      background-color: #E2EBFA;\n",
              "      box-shadow: 0px 1px 2px rgba(60, 64, 67, 0.3), 0px 1px 3px 1px rgba(60, 64, 67, 0.15);\n",
              "      fill: #174EA6;\n",
              "    }\n",
              "\n",
              "    [theme=dark] .colab-df-convert {\n",
              "      background-color: #3B4455;\n",
              "      fill: #D2E3FC;\n",
              "    }\n",
              "\n",
              "    [theme=dark] .colab-df-convert:hover {\n",
              "      background-color: #434B5C;\n",
              "      box-shadow: 0px 1px 3px 1px rgba(0, 0, 0, 0.15);\n",
              "      filter: drop-shadow(0px 1px 2px rgba(0, 0, 0, 0.3));\n",
              "      fill: #FFFFFF;\n",
              "    }\n",
              "  </style>\n",
              "\n",
              "      <script>\n",
              "        const buttonEl =\n",
              "          document.querySelector('#df-3241e7ea-7754-424f-ba05-218fdce05ad7 button.colab-df-convert');\n",
              "        buttonEl.style.display =\n",
              "          google.colab.kernel.accessAllowed ? 'block' : 'none';\n",
              "\n",
              "        async function convertToInteractive(key) {\n",
              "          const element = document.querySelector('#df-3241e7ea-7754-424f-ba05-218fdce05ad7');\n",
              "          const dataTable =\n",
              "            await google.colab.kernel.invokeFunction('convertToInteractive',\n",
              "                                                     [key], {});\n",
              "          if (!dataTable) return;\n",
              "\n",
              "          const docLinkHtml = 'Like what you see? Visit the ' +\n",
              "            '<a target=\"_blank\" href=https://colab.research.google.com/notebooks/data_table.ipynb>data table notebook</a>'\n",
              "            + ' to learn more about interactive tables.';\n",
              "          element.innerHTML = '';\n",
              "          dataTable['output_type'] = 'display_data';\n",
              "          await google.colab.output.renderOutput(dataTable, element);\n",
              "          const docLink = document.createElement('div');\n",
              "          docLink.innerHTML = docLinkHtml;\n",
              "          element.appendChild(docLink);\n",
              "        }\n",
              "      </script>\n",
              "    </div>\n",
              "  </div>\n",
              "  "
            ]
          },
          "metadata": {},
          "execution_count": 31
        }
      ]
    },
    {
      "cell_type": "markdown",
      "source": [
        "Aqui, la cantidad de carros con el motor en la parte de atras es minuscula. Se podria considerar, si estos carros generan errores repetitivamente en otros campos, borrar estos 3 valores sin mucha repercusion"
      ],
      "metadata": {
        "id": "CtuGkXbH776y"
      }
    },
    {
      "cell_type": "markdown",
      "source": [
        "#### Engine_type"
      ],
      "metadata": {
        "id": "IOqonKbG_m1E"
      }
    },
    {
      "cell_type": "code",
      "source": [
        "plt.figure(figsize=(25,4))\n",
        "sns.countplot(x=cat_vars[7], data=data)"
      ],
      "metadata": {
        "colab": {
          "base_uri": "https://localhost:8080/",
          "height": 297
        },
        "id": "eI9LaARJ57zO",
        "outputId": "4c05ab29-c18c-4850-d120-2c197828d2a0"
      },
      "execution_count": null,
      "outputs": [
        {
          "output_type": "execute_result",
          "data": {
            "text/plain": [
              "<AxesSubplot:xlabel='Engine_type', ylabel='count'>"
            ]
          },
          "metadata": {},
          "execution_count": 32
        },
        {
          "output_type": "display_data",
          "data": {
            "text/plain": [
              "<Figure size 1800x288 with 1 Axes>"
            ],
            "image/png": "[encoded data removed]"
          },
          "metadata": {
            "needs_background": "light"
          }
        }
      ]
    },
    {
      "cell_type": "code",
      "source": [
        "pd.crosstab(index=data[\"Engine_type\"], columns=\"count\")"
      ],
      "metadata": {
        "colab": {
          "base_uri": "https://localhost:8080/",
          "height": 300
        },
        "id": "nIcFqd119loC",
        "outputId": "01c64ee6-d920-4c8b-82f0-9426416e7375"
      },
      "execution_count": null,
      "outputs": [
        {
          "output_type": "execute_result",
          "data": {
            "text/plain": [
              "col_0        count\n",
              "Engine_type       \n",
              "dohc            12\n",
              "dohcv            1\n",
              "l               12\n",
              "ohc            148\n",
              "ohcf            15\n",
              "ohcv            13\n",
              "rotor            4"
            ],
            "text/html": [
              "\n",
              "  <div id=\"df-44b0ef54-e01f-4ed8-bf2c-18c6ce873b4e\">\n",
              "    <div class=\"colab-df-container\">\n",
              "      <div>\n",
              "<style scoped>\n",
              "    .dataframe tbody tr th:only-of-type {\n",
              "        vertical-align: middle;\n",
              "    }\n",
              "\n",
              "    .dataframe tbody tr th {\n",
              "        vertical-align: top;\n",
              "    }\n",
              "\n",
              "    .dataframe thead th {\n",
              "        text-align: right;\n",
              "    }\n",
              "</style>\n",
              "<table border=\"1\" class=\"dataframe\">\n",
              "  <thead>\n",
              "    <tr style=\"text-align: right;\">\n",
              "      <th>col_0</th>\n",
              "      <th>count</th>\n",
              "    </tr>\n",
              "    <tr>\n",
              "      <th>Engine_type</th>\n",
              "      <th></th>\n",
              "    </tr>\n",
              "  </thead>\n",
              "  <tbody>\n",
              "    <tr>\n",
              "      <th>dohc</th>\n",
              "      <td>12</td>\n",
              "    </tr>\n",
              "    <tr>\n",
              "      <th>dohcv</th>\n",
              "      <td>1</td>\n",
              "    </tr>\n",
              "    <tr>\n",
              "      <th>l</th>\n",
              "      <td>12</td>\n",
              "    </tr>\n",
              "    <tr>\n",
              "      <th>ohc</th>\n",
              "      <td>148</td>\n",
              "    </tr>\n",
              "    <tr>\n",
              "      <th>ohcf</th>\n",
              "      <td>15</td>\n",
              "    </tr>\n",
              "    <tr>\n",
              "      <th>ohcv</th>\n",
              "      <td>13</td>\n",
              "    </tr>\n",
              "    <tr>\n",
              "      <th>rotor</th>\n",
              "      <td>4</td>\n",
              "    </tr>\n",
              "  </tbody>\n",
              "</table>\n",
              "</div>\n",
              "      <button class=\"colab-df-convert\" onclick=\"convertToInteractive('df-44b0ef54-e01f-4ed8-bf2c-18c6ce873b4e')\"\n",
              "              title=\"Convert this dataframe to an interactive table.\"\n",
              "              style=\"display:none;\">\n",
              "        \n",
              "  <svg xmlns=\"http://www.w3.org/2000/svg\" height=\"24px\"viewBox=\"0 0 24 24\"\n",
              "       width=\"24px\">\n",
              "    <path d=\"M0 0h24v24H0V0z\" fill=\"none\"/>\n",
              "    <path d=\"M18.56 5.44l.94 2.06.94-2.06 2.06-.94-2.06-.94-.94-2.06-.94 2.06-2.06.94zm-11 1L8.5 8.5l.94-2.06 2.06-.94-2.06-.94L8.5 2.5l-.94 2.06-2.06.94zm10 10l.94 2.06.94-2.06 2.06-.94-2.06-.94-.94-2.06-.94 2.06-2.06.94z\"/><path d=\"M17.41 7.96l-1.37-1.37c-.4-.4-.92-.59-1.43-.59-.52 0-1.04.2-1.43.59L10.3 9.45l-7.72 7.72c-.78.78-.78 2.05 0 2.83L4 21.41c.39.39.9.59 1.41.59.51 0 1.02-.2 1.41-.59l7.78-7.78 2.81-2.81c.8-.78.8-2.07 0-2.86zM5.41 20L4 18.59l7.72-7.72 1.47 1.35L5.41 20z\"/>\n",
              "  </svg>\n",
              "      </button>\n",
              "      \n",
              "  <style>\n",
              "    .colab-df-container {\n",
              "      display:flex;\n",
              "      flex-wrap:wrap;\n",
              "      gap: 12px;\n",
              "    }\n",
              "\n",
              "    .colab-df-convert {\n",
              "      background-color: #E8F0FE;\n",
              "      border: none;\n",
              "      border-radius: 50%;\n",
              "      cursor: pointer;\n",
              "      display: none;\n",
              "      fill: #1967D2;\n",
              "      height: 32px;\n",
              "      padding: 0 0 0 0;\n",
              "      width: 32px;\n",
              "    }\n",
              "\n",
              "    .colab-df-convert:hover {\n",
              "      background-color: #E2EBFA;\n",
              "      box-shadow: 0px 1px 2px rgba(60, 64, 67, 0.3), 0px 1px 3px 1px rgba(60, 64, 67, 0.15);\n",
              "      fill: #174EA6;\n",
              "    }\n",
              "\n",
              "    [theme=dark] .colab-df-convert {\n",
              "      background-color: #3B4455;\n",
              "      fill: #D2E3FC;\n",
              "    }\n",
              "\n",
              "    [theme=dark] .colab-df-convert:hover {\n",
              "      background-color: #434B5C;\n",
              "      box-shadow: 0px 1px 3px 1px rgba(0, 0, 0, 0.15);\n",
              "      filter: drop-shadow(0px 1px 2px rgba(0, 0, 0, 0.3));\n",
              "      fill: #FFFFFF;\n",
              "    }\n",
              "  </style>\n",
              "\n",
              "      <script>\n",
              "        const buttonEl =\n",
              "          document.querySelector('#df-44b0ef54-e01f-4ed8-bf2c-18c6ce873b4e button.colab-df-convert');\n",
              "        buttonEl.style.display =\n",
              "          google.colab.kernel.accessAllowed ? 'block' : 'none';\n",
              "\n",
              "        async function convertToInteractive(key) {\n",
              "          const element = document.querySelector('#df-44b0ef54-e01f-4ed8-bf2c-18c6ce873b4e');\n",
              "          const dataTable =\n",
              "            await google.colab.kernel.invokeFunction('convertToInteractive',\n",
              "                                                     [key], {});\n",
              "          if (!dataTable) return;\n",
              "\n",
              "          const docLinkHtml = 'Like what you see? Visit the ' +\n",
              "            '<a target=\"_blank\" href=https://colab.research.google.com/notebooks/data_table.ipynb>data table notebook</a>'\n",
              "            + ' to learn more about interactive tables.';\n",
              "          element.innerHTML = '';\n",
              "          dataTable['output_type'] = 'display_data';\n",
              "          await google.colab.output.renderOutput(dataTable, element);\n",
              "          const docLink = document.createElement('div');\n",
              "          docLink.innerHTML = docLinkHtml;\n",
              "          element.appendChild(docLink);\n",
              "        }\n",
              "      </script>\n",
              "    </div>\n",
              "  </div>\n",
              "  "
            ]
          },
          "metadata": {},
          "execution_count": 33
        }
      ]
    },
    {
      "cell_type": "markdown",
      "source": [
        "Aqui, el tipo de motor principal es ohc, y por mucho (en promedio 10 veces mayor en comparacion a los demas). En el otro extremo, solo un vehiculo utiliza dohcv, y 4 utilizan rotor.\n",
        "\n",
        "Una solucion para la diferencia masiva entre estos valores podria ser unificar las columnas de esta variable, de manera que solo hayan dos: vehiculos que utilicen ohc, y vehiculos que no."
      ],
      "metadata": {
        "id": "aP92b0yb9okI"
      }
    },
    {
      "cell_type": "markdown",
      "source": [
        "#### Fuel_system"
      ],
      "metadata": {
        "id": "V4fk87fN_paa"
      }
    },
    {
      "cell_type": "code",
      "source": [
        "plt.figure(figsize=(25,4))\n",
        "sns.countplot(x=cat_vars[8], data=data)"
      ],
      "metadata": {
        "colab": {
          "base_uri": "https://localhost:8080/",
          "height": 297
        },
        "id": "qGHHqYqE58BR",
        "outputId": "fb15af6f-857d-4b24-fb7a-0a48b2f421f3"
      },
      "execution_count": null,
      "outputs": [
        {
          "output_type": "execute_result",
          "data": {
            "text/plain": [
              "<AxesSubplot:xlabel='Fuel_system', ylabel='count'>"
            ]
          },
          "metadata": {},
          "execution_count": 34
        },
        {
          "output_type": "display_data",
          "data": {
            "text/plain": [
              "<Figure size 1800x288 with 1 Axes>"
            ],
            "image/png": "[encoded data removed]"
          },
          "metadata": {
            "needs_background": "light"
          }
        }
      ]
    },
    {
      "cell_type": "code",
      "source": [
        "pd.crosstab(index=data[\"Fuel_system\"], columns=\"count\")"
      ],
      "metadata": {
        "colab": {
          "base_uri": "https://localhost:8080/",
          "height": 332
        },
        "id": "s9QqQdnd-cWA",
        "outputId": "144610bf-2c69-4b3d-bb37-c3579e39bbe1"
      },
      "execution_count": null,
      "outputs": [
        {
          "output_type": "execute_result",
          "data": {
            "text/plain": [
              "col_0        count\n",
              "Fuel_system       \n",
              "1bbl            11\n",
              "2bbl            66\n",
              "4bbl             3\n",
              "idi             20\n",
              "mfi              1\n",
              "mpfi            94\n",
              "spdi             9\n",
              "spfi             1"
            ],
            "text/html": [
              "\n",
              "  <div id=\"df-702c7ec7-e635-4120-b9b4-a93b7e971435\">\n",
              "    <div class=\"colab-df-container\">\n",
              "      <div>\n",
              "<style scoped>\n",
              "    .dataframe tbody tr th:only-of-type {\n",
              "        vertical-align: middle;\n",
              "    }\n",
              "\n",
              "    .dataframe tbody tr th {\n",
              "        vertical-align: top;\n",
              "    }\n",
              "\n",
              "    .dataframe thead th {\n",
              "        text-align: right;\n",
              "    }\n",
              "</style>\n",
              "<table border=\"1\" class=\"dataframe\">\n",
              "  <thead>\n",
              "    <tr style=\"text-align: right;\">\n",
              "      <th>col_0</th>\n",
              "      <th>count</th>\n",
              "    </tr>\n",
              "    <tr>\n",
              "      <th>Fuel_system</th>\n",
              "      <th></th>\n",
              "    </tr>\n",
              "  </thead>\n",
              "  <tbody>\n",
              "    <tr>\n",
              "      <th>1bbl</th>\n",
              "      <td>11</td>\n",
              "    </tr>\n",
              "    <tr>\n",
              "      <th>2bbl</th>\n",
              "      <td>66</td>\n",
              "    </tr>\n",
              "    <tr>\n",
              "      <th>4bbl</th>\n",
              "      <td>3</td>\n",
              "    </tr>\n",
              "    <tr>\n",
              "      <th>idi</th>\n",
              "      <td>20</td>\n",
              "    </tr>\n",
              "    <tr>\n",
              "      <th>mfi</th>\n",
              "      <td>1</td>\n",
              "    </tr>\n",
              "    <tr>\n",
              "      <th>mpfi</th>\n",
              "      <td>94</td>\n",
              "    </tr>\n",
              "    <tr>\n",
              "      <th>spdi</th>\n",
              "      <td>9</td>\n",
              "    </tr>\n",
              "    <tr>\n",
              "      <th>spfi</th>\n",
              "      <td>1</td>\n",
              "    </tr>\n",
              "  </tbody>\n",
              "</table>\n",
              "</div>\n",
              "      <button class=\"colab-df-convert\" onclick=\"convertToInteractive('df-702c7ec7-e635-4120-b9b4-a93b7e971435')\"\n",
              "              title=\"Convert this dataframe to an interactive table.\"\n",
              "              style=\"display:none;\">\n",
              "        \n",
              "  <svg xmlns=\"http://www.w3.org/2000/svg\" height=\"24px\"viewBox=\"0 0 24 24\"\n",
              "       width=\"24px\">\n",
              "    <path d=\"M0 0h24v24H0V0z\" fill=\"none\"/>\n",
              "    <path d=\"M18.56 5.44l.94 2.06.94-2.06 2.06-.94-2.06-.94-.94-2.06-.94 2.06-2.06.94zm-11 1L8.5 8.5l.94-2.06 2.06-.94-2.06-.94L8.5 2.5l-.94 2.06-2.06.94zm10 10l.94 2.06.94-2.06 2.06-.94-2.06-.94-.94-2.06-.94 2.06-2.06.94z\"/><path d=\"M17.41 7.96l-1.37-1.37c-.4-.4-.92-.59-1.43-.59-.52 0-1.04.2-1.43.59L10.3 9.45l-7.72 7.72c-.78.78-.78 2.05 0 2.83L4 21.41c.39.39.9.59 1.41.59.51 0 1.02-.2 1.41-.59l7.78-7.78 2.81-2.81c.8-.78.8-2.07 0-2.86zM5.41 20L4 18.59l7.72-7.72 1.47 1.35L5.41 20z\"/>\n",
              "  </svg>\n",
              "      </button>\n",
              "      \n",
              "  <style>\n",
              "    .colab-df-container {\n",
              "      display:flex;\n",
              "      flex-wrap:wrap;\n",
              "      gap: 12px;\n",
              "    }\n",
              "\n",
              "    .colab-df-convert {\n",
              "      background-color: #E8F0FE;\n",
              "      border: none;\n",
              "      border-radius: 50%;\n",
              "      cursor: pointer;\n",
              "      display: none;\n",
              "      fill: #1967D2;\n",
              "      height: 32px;\n",
              "      padding: 0 0 0 0;\n",
              "      width: 32px;\n",
              "    }\n",
              "\n",
              "    .colab-df-convert:hover {\n",
              "      background-color: #E2EBFA;\n",
              "      box-shadow: 0px 1px 2px rgba(60, 64, 67, 0.3), 0px 1px 3px 1px rgba(60, 64, 67, 0.15);\n",
              "      fill: #174EA6;\n",
              "    }\n",
              "\n",
              "    [theme=dark] .colab-df-convert {\n",
              "      background-color: #3B4455;\n",
              "      fill: #D2E3FC;\n",
              "    }\n",
              "\n",
              "    [theme=dark] .colab-df-convert:hover {\n",
              "      background-color: #434B5C;\n",
              "      box-shadow: 0px 1px 3px 1px rgba(0, 0, 0, 0.15);\n",
              "      filter: drop-shadow(0px 1px 2px rgba(0, 0, 0, 0.3));\n",
              "      fill: #FFFFFF;\n",
              "    }\n",
              "  </style>\n",
              "\n",
              "      <script>\n",
              "        const buttonEl =\n",
              "          document.querySelector('#df-702c7ec7-e635-4120-b9b4-a93b7e971435 button.colab-df-convert');\n",
              "        buttonEl.style.display =\n",
              "          google.colab.kernel.accessAllowed ? 'block' : 'none';\n",
              "\n",
              "        async function convertToInteractive(key) {\n",
              "          const element = document.querySelector('#df-702c7ec7-e635-4120-b9b4-a93b7e971435');\n",
              "          const dataTable =\n",
              "            await google.colab.kernel.invokeFunction('convertToInteractive',\n",
              "                                                     [key], {});\n",
              "          if (!dataTable) return;\n",
              "\n",
              "          const docLinkHtml = 'Like what you see? Visit the ' +\n",
              "            '<a target=\"_blank\" href=https://colab.research.google.com/notebooks/data_table.ipynb>data table notebook</a>'\n",
              "            + ' to learn more about interactive tables.';\n",
              "          element.innerHTML = '';\n",
              "          dataTable['output_type'] = 'display_data';\n",
              "          await google.colab.output.renderOutput(dataTable, element);\n",
              "          const docLink = document.createElement('div');\n",
              "          docLink.innerHTML = docLinkHtml;\n",
              "          element.appendChild(docLink);\n",
              "        }\n",
              "      </script>\n",
              "    </div>\n",
              "  </div>\n",
              "  "
            ]
          },
          "metadata": {},
          "execution_count": 35
        }
      ]
    },
    {
      "cell_type": "markdown",
      "source": [
        "Esta variable puede ser mas problematica que la anterior, ya que tiene valores extremadamanete pequeños (atipicos) como spfi, mfi y 4bbl, pero el resto de valores son significativamente grandes, comparados con el mas grande.\n",
        "\n",
        "Dependiendo de la correlacion de esta variable con el riesgo, se podria cuestionar la importancia de algunos valores."
      ],
      "metadata": {
        "id": "5J8JqPef-kBd"
      }
    },
    {
      "cell_type": "markdown",
      "source": [
        "### Promedios Variables Cuantitativas"
      ],
      "metadata": {
        "id": "OlG3LS_GMGc-"
      }
    },
    {
      "cell_type": "code",
      "source": [
        "cuant_var = ['Normalized_losses', 'Wheel_base', 'Length', 'Width', 'Heigth', 'Curb_weight', 'Engine_size', 'Bore', 'Stroke', 'Compression_ratio', 'Horse_power', 'Peak_rpm', 'City_mpg', 'Highway_mpg', 'Price']"
      ],
      "metadata": {
        "id": "EiOBgJoaMKCL"
      },
      "execution_count": null,
      "outputs": []
    },
    {
      "cell_type": "markdown",
      "source": [
        "#### Normalized_losses"
      ],
      "metadata": {
        "id": "H5MDtgpZkUZh"
      }
    },
    {
      "cell_type": "code",
      "source": [
        "pvc = 0\n",
        "print(cuant_var[pvc] + \": \", data[cuant_var[pvc]].mean())\n",
        "pvc += 1"
      ],
      "metadata": {
        "colab": {
          "base_uri": "https://localhost:8080/"
        },
        "id": "wwGkBRQEPSZW",
        "outputId": "18eef1fc-3dc4-47cb-ce10-15d470acd389"
      },
      "execution_count": null,
      "outputs": [
        {
          "output_type": "stream",
          "name": "stdout",
          "text": [
            "Normalized_losses:  97.6\n"
          ]
        }
      ]
    },
    {
      "cell_type": "code",
      "source": [
        "data.Normalized_losses"
      ],
      "metadata": {
        "colab": {
          "base_uri": "https://localhost:8080/"
        },
        "id": "VGnRIX81fa3D",
        "outputId": "e6dc1f15-3f65-499f-efbd-5103c0a334bd"
      },
      "execution_count": null,
      "outputs": [
        {
          "output_type": "execute_result",
          "data": {
            "text/plain": [
              "0        0.0\n",
              "1        0.0\n",
              "2        0.0\n",
              "3      164.0\n",
              "4      164.0\n",
              "       ...  \n",
              "200     95.0\n",
              "201     95.0\n",
              "202     95.0\n",
              "203     95.0\n",
              "204     95.0\n",
              "Name: Normalized_losses, Length: 205, dtype: float64"
            ]
          },
          "metadata": {},
          "execution_count": 114
        }
      ]
    },
    {
      "cell_type": "markdown",
      "source": [
        "Al estar mas cerca del rango inferior, en promedio, las perdidas normalizadas son menores en general.\n",
        "\n",
        "Cabe recalcar que hay valores erroneos en esta variable. Resulta que hay celdas cuyo valor es igual a 0, lo cual esta fuera del rango aceptado. Esto posiblemente quiera decir que en este vehiculo no hubo perdidas."
      ],
      "metadata": {
        "id": "-XZZPxURen1U"
      }
    },
    {
      "cell_type": "code",
      "source": [
        "pvc_nl = 0\n",
        "for i in data.Normalized_losses:\n",
        "  if (i < 64 or i > 256): #por si hay valores que no sean 0 pero esten fuera del rango\n",
        "    print(pvc_nl,\" : \",i)\n",
        "  pvc_nl += 1"
      ],
      "metadata": {
        "colab": {
          "base_uri": "https://localhost:8080/"
        },
        "id": "SNdQ5PkogxGs",
        "outputId": "433f341f-28b7-4ba3-9862-85ffc8408781"
      },
      "execution_count": null,
      "outputs": [
        {
          "output_type": "stream",
          "name": "stdout",
          "text": [
            "0  :  0.0\n",
            "1  :  0.0\n",
            "2  :  0.0\n",
            "5  :  0.0\n",
            "7  :  0.0\n",
            "9  :  0.0\n",
            "14  :  0.0\n",
            "15  :  0.0\n",
            "16  :  0.0\n",
            "17  :  0.0\n",
            "43  :  0.0\n",
            "44  :  0.0\n",
            "45  :  0.0\n",
            "46  :  0.0\n",
            "48  :  0.0\n",
            "49  :  0.0\n",
            "63  :  0.0\n",
            "66  :  0.0\n",
            "71  :  0.0\n",
            "73  :  0.0\n",
            "74  :  0.0\n",
            "75  :  0.0\n",
            "82  :  0.0\n",
            "83  :  0.0\n",
            "84  :  0.0\n",
            "109  :  0.0\n",
            "110  :  0.0\n",
            "113  :  0.0\n",
            "114  :  0.0\n",
            "124  :  0.0\n",
            "126  :  0.0\n",
            "127  :  0.0\n",
            "128  :  0.0\n",
            "129  :  0.0\n",
            "130  :  0.0\n",
            "131  :  0.0\n",
            "181  :  0.0\n",
            "189  :  0.0\n",
            "191  :  0.0\n",
            "192  :  0.0\n",
            "193  :  0.0\n"
          ]
        }
      ]
    },
    {
      "cell_type": "markdown",
      "source": [
        "De hecho, la cantidad de carros cuyas perdidas es 0 es palpable, asi que no se deberia considerar borrar estas celdas."
      ],
      "metadata": {
        "id": "FXsmfYhijL22"
      }
    },
    {
      "cell_type": "markdown",
      "source": [
        "#### Wheel_base"
      ],
      "metadata": {
        "id": "lYCAPgzJkbh1"
      }
    },
    {
      "cell_type": "code",
      "source": [
        "print(cuant_var[pvc] + \": \", data[cuant_var[pvc]].mean())\n",
        "pvc += 1"
      ],
      "metadata": {
        "colab": {
          "base_uri": "https://localhost:8080/"
        },
        "id": "m-_CpY0QdlwX",
        "outputId": "47abd685-5254-44fd-bace-18277b914247"
      },
      "execution_count": null,
      "outputs": [
        {
          "output_type": "stream",
          "name": "stdout",
          "text": [
            "Wheel_base:  98.75658536585367\n"
          ]
        }
      ]
    },
    {
      "cell_type": "markdown",
      "source": [
        "El tamaño de la rueda es promedio, acercandose a un tamaño menor, posiblemente signifique que hay mayor cantidad de carros pequeños"
      ],
      "metadata": {
        "id": "mJBCauCrkGiH"
      }
    },
    {
      "cell_type": "markdown",
      "source": [
        "#### Length"
      ],
      "metadata": {
        "id": "9nF5lHWhkdmw"
      }
    },
    {
      "cell_type": "code",
      "source": [
        "print(cuant_var[pvc] + \": \", data[cuant_var[pvc]].mean())\n",
        "pvc += 1"
      ],
      "metadata": {
        "colab": {
          "base_uri": "https://localhost:8080/"
        },
        "id": "83eI8ZN5dlpo",
        "outputId": "bebd0ff7-9e22-4fb8-e65d-ad1fb102258c"
      },
      "execution_count": null,
      "outputs": [
        {
          "output_type": "stream",
          "name": "stdout",
          "text": [
            "Length:  174.04926829268288\n"
          ]
        }
      ]
    },
    {
      "cell_type": "markdown",
      "source": [
        "El promedio esta cerca de la mitad del rango de longitud (~140 : 200), lo cual (al menos en la longitud) invalida el anterior argumento"
      ],
      "metadata": {
        "id": "NVR-qbzGkfmm"
      }
    },
    {
      "cell_type": "markdown",
      "source": [
        "#### Width"
      ],
      "metadata": {
        "id": "iD4584lWlD47"
      }
    },
    {
      "cell_type": "code",
      "source": [
        "print(cuant_var[pvc] + \": \", data[cuant_var[pvc]].mean())\n",
        "pvc += 1"
      ],
      "metadata": {
        "colab": {
          "base_uri": "https://localhost:8080/"
        },
        "id": "y1J2Bq0EdljS",
        "outputId": "66c29b84-3415-4607-e75b-c6fbb7bf4b3b"
      },
      "execution_count": null,
      "outputs": [
        {
          "output_type": "stream",
          "name": "stdout",
          "text": [
            "Width:  65.90780487804878\n"
          ]
        }
      ]
    },
    {
      "cell_type": "markdown",
      "source": [
        "Lo mismo que el anterior..."
      ],
      "metadata": {
        "id": "wql22cYglGic"
      }
    },
    {
      "cell_type": "markdown",
      "source": [
        "#### Height"
      ],
      "metadata": {
        "id": "D8SxHWm0lQ4N"
      }
    },
    {
      "cell_type": "code",
      "source": [
        "print(cuant_var[pvc] + \": \", data[cuant_var[pvc]].mean())\n",
        "pvc += 1"
      ],
      "metadata": {
        "colab": {
          "base_uri": "https://localhost:8080/"
        },
        "id": "mlCnsKYMdlbx",
        "outputId": "5049f896-80e5-4e75-c026-0efeec39704a"
      },
      "execution_count": null,
      "outputs": [
        {
          "output_type": "stream",
          "name": "stdout",
          "text": [
            "Heigth:  53.72487804878049\n"
          ]
        }
      ]
    },
    {
      "cell_type": "markdown",
      "source": [
        "En promedio tiende (minimamente) hacia menor altura"
      ],
      "metadata": {
        "id": "gCcELasQlaMN"
      }
    },
    {
      "cell_type": "markdown",
      "source": [
        "#### Curb_weight"
      ],
      "metadata": {
        "id": "POGbGLRBlkV4"
      }
    },
    {
      "cell_type": "code",
      "source": [
        "print(cuant_var[pvc] + \": \", data[cuant_var[pvc]].mean())\n",
        "pvc += 1"
      ],
      "metadata": {
        "colab": {
          "base_uri": "https://localhost:8080/"
        },
        "id": "_ozkLIzJdlQY",
        "outputId": "5e242354-f149-4b15-ca62-08eed49fdb85"
      },
      "execution_count": null,
      "outputs": [
        {
          "output_type": "stream",
          "name": "stdout",
          "text": [
            "Curb_weight:  2555.5658536585365\n"
          ]
        }
      ]
    },
    {
      "cell_type": "markdown",
      "source": [
        "Este promedio esta significativamente mas cerca al limite inferior. Quiere decir que esta muestra de carros es mas ligera."
      ],
      "metadata": {
        "id": "XI3Q9iMZlpn5"
      }
    },
    {
      "cell_type": "markdown",
      "source": [
        "#### Engine_size"
      ],
      "metadata": {
        "id": "WjHoB9DPmFB9"
      }
    },
    {
      "cell_type": "code",
      "source": [
        "print(cuant_var[pvc] + \": \", data[cuant_var[pvc]].mean())\n",
        "pvc += 1"
      ],
      "metadata": {
        "colab": {
          "base_uri": "https://localhost:8080/"
        },
        "id": "3ytZapJUdlLJ",
        "outputId": "c95c4d3a-5b75-4e85-eee2-39f885641315"
      },
      "execution_count": null,
      "outputs": [
        {
          "output_type": "stream",
          "name": "stdout",
          "text": [
            "Engine_size:  126.90731707317073\n"
          ]
        }
      ]
    },
    {
      "cell_type": "markdown",
      "source": [
        "Este valor tambien esta mas cercano al rango inferior, lo que quiere decir que la mayoria de motores son pequeños"
      ],
      "metadata": {
        "id": "s3dem_JemLKs"
      }
    },
    {
      "cell_type": "markdown",
      "source": [
        "#### Bore"
      ],
      "metadata": {
        "id": "YB5DZGkHmdaz"
      }
    },
    {
      "cell_type": "code",
      "source": [
        "print(cuant_var[pvc] + \": \", data[cuant_var[pvc]].mean())\n",
        "pvc += 1"
      ],
      "metadata": {
        "colab": {
          "base_uri": "https://localhost:8080/"
        },
        "id": "Z75gfy31dlFj",
        "outputId": "602db7b0-3ebf-4f56-82ee-da175a567fce"
      },
      "execution_count": null,
      "outputs": [
        {
          "output_type": "stream",
          "name": "stdout",
          "text": [
            "Bore:  3.264780487804878\n"
          ]
        }
      ]
    },
    {
      "cell_type": "markdown",
      "source": [
        "Nada de importancia..."
      ],
      "metadata": {
        "id": "Cq1TD1rvmwyb"
      }
    },
    {
      "cell_type": "markdown",
      "source": [
        "#### Stroke"
      ],
      "metadata": {
        "id": "PA63SsTanJYx"
      }
    },
    {
      "cell_type": "code",
      "source": [
        "print(cuant_var[pvc] + \": \", data[cuant_var[pvc]].mean())\n",
        "pvc += 1"
      ],
      "metadata": {
        "colab": {
          "base_uri": "https://localhost:8080/"
        },
        "id": "MELzopjmdlAh",
        "outputId": "320a7f45-fdf4-4ce7-b97b-c771102c64bc"
      },
      "execution_count": null,
      "outputs": [
        {
          "output_type": "stream",
          "name": "stdout",
          "text": [
            "Stroke:  3.19190243902439\n"
          ]
        }
      ]
    },
    {
      "cell_type": "markdown",
      "source": [
        "En el medio..."
      ],
      "metadata": {
        "id": "CR_qQnYHnOW_"
      }
    },
    {
      "cell_type": "markdown",
      "source": [
        "#### Compression_ratio"
      ],
      "metadata": {
        "id": "0BFV5Q3JoScf"
      }
    },
    {
      "cell_type": "code",
      "source": [
        "print(cuant_var[pvc] + \": \", data[cuant_var[pvc]].mean())\n",
        "pvc += 1"
      ],
      "metadata": {
        "colab": {
          "base_uri": "https://localhost:8080/"
        },
        "id": "gH4ndd5ndk7j",
        "outputId": "2c21c9cc-8e4e-492f-863c-288bc2954481"
      },
      "execution_count": null,
      "outputs": [
        {
          "output_type": "stream",
          "name": "stdout",
          "text": [
            "Compression_ratio:  10.142536585365855\n"
          ]
        }
      ]
    },
    {
      "cell_type": "markdown",
      "source": [
        "Muy cerca limite inferior"
      ],
      "metadata": {
        "id": "v87LESXiocNS"
      }
    },
    {
      "cell_type": "markdown",
      "source": [
        "#### Horse_power"
      ],
      "metadata": {
        "id": "3Y2M-u_MoyLr"
      }
    },
    {
      "cell_type": "code",
      "source": [
        "print(cuant_var[pvc] + \": \", data[cuant_var[pvc]].mean())\n",
        "pvc += 1"
      ],
      "metadata": {
        "colab": {
          "base_uri": "https://localhost:8080/"
        },
        "id": "U9opGA5Jdk2s",
        "outputId": "0ca606a5-174d-445c-bb07-39c7ee88e2ac"
      },
      "execution_count": null,
      "outputs": [
        {
          "output_type": "stream",
          "name": "stdout",
          "text": [
            "Horse_power:  103.2390243902439\n"
          ]
        }
      ]
    },
    {
      "cell_type": "markdown",
      "source": [
        "En promedio los carros tienen menores caballos de fuerza que lo que espera el promedio. Posiblemente quiere decir que son carros mas domesticos"
      ],
      "metadata": {
        "id": "42KcE81Qo6PQ"
      }
    },
    {
      "cell_type": "markdown",
      "source": [
        "#### Peak_rpm"
      ],
      "metadata": {
        "id": "0bwZH_FYpE-y"
      }
    },
    {
      "cell_type": "code",
      "source": [
        "print(cuant_var[pvc] + \": \", data[cuant_var[pvc]].mean())\n",
        "pvc += 1"
      ],
      "metadata": {
        "colab": {
          "base_uri": "https://localhost:8080/"
        },
        "id": "Ph75PXFXdkxp",
        "outputId": "937ba83e-94aa-4e35-aff9-b2d7ead0b151"
      },
      "execution_count": null,
      "outputs": [
        {
          "output_type": "stream",
          "name": "stdout",
          "text": [
            "Peak_rpm:  5075.365853658536\n"
          ]
        }
      ]
    },
    {
      "cell_type": "markdown",
      "source": [
        "Los rpm tambien son promedio"
      ],
      "metadata": {
        "id": "xkPQYFfnpKQ7"
      }
    },
    {
      "cell_type": "markdown",
      "source": [
        "#### City_mpg"
      ],
      "metadata": {
        "id": "K4RcKQxhpNSK"
      }
    },
    {
      "cell_type": "code",
      "source": [
        "print(cuant_var[pvc] + \": \", data[cuant_var[pvc]].mean())\n",
        "pvc += 1"
      ],
      "metadata": {
        "colab": {
          "base_uri": "https://localhost:8080/"
        },
        "id": "G7F_CNJTdkrx",
        "outputId": "b76c923e-3471-4547-bc6d-db186a23174c"
      },
      "execution_count": null,
      "outputs": [
        {
          "output_type": "stream",
          "name": "stdout",
          "text": [
            "City_mpg:  25.21951219512195\n"
          ]
        }
      ]
    },
    {
      "cell_type": "markdown",
      "source": [
        "Esto quiere decir que la mayoria de carros van por debajo del limite de velocidad"
      ],
      "metadata": {
        "id": "malFuaIDpS8w"
      }
    },
    {
      "cell_type": "markdown",
      "source": [
        "#### Highway_mpg"
      ],
      "metadata": {
        "id": "KESyf4ATpcfQ"
      }
    },
    {
      "cell_type": "code",
      "source": [
        "print(cuant_var[pvc] + \": \", data[cuant_var[pvc]].mean())\n",
        "pvc += 1"
      ],
      "metadata": {
        "colab": {
          "base_uri": "https://localhost:8080/"
        },
        "id": "C5czxW2ydklL",
        "outputId": "345ae854-5fae-4d9b-94a5-bfa35dffc3ba"
      },
      "execution_count": null,
      "outputs": [
        {
          "output_type": "stream",
          "name": "stdout",
          "text": [
            "Highway_mpg:  30.75121951219512\n"
          ]
        }
      ]
    },
    {
      "cell_type": "markdown",
      "source": [
        "Esta mas cercano al limite inferior. Quiere decir que estos carros no estan hechos para andar a altas velocidades en promedio"
      ],
      "metadata": {
        "id": "yQkDePNsplpj"
      }
    },
    {
      "cell_type": "markdown",
      "source": [
        "#### Price"
      ],
      "metadata": {
        "id": "Cz7Ku4APpywa"
      }
    },
    {
      "cell_type": "code",
      "source": [
        "print(cuant_var[pvc] + \": \", data[cuant_var[pvc]].mean())\n",
        "pvc += 1"
      ],
      "metadata": {
        "colab": {
          "base_uri": "https://localhost:8080/"
        },
        "id": "Nm30KaWwpw-6",
        "outputId": "4295ab5b-5182-4218-b274-cc2294c60d81"
      },
      "execution_count": null,
      "outputs": [
        {
          "output_type": "stream",
          "name": "stdout",
          "text": [
            "Price:  12949.429268292683\n"
          ]
        }
      ]
    },
    {
      "cell_type": "markdown",
      "source": [
        "En promedio, los carros son de menor precio, ya que no se acercan a los 55k"
      ],
      "metadata": {
        "id": "v-ZmBzsnp2WD"
      }
    },
    {
      "cell_type": "markdown",
      "source": [
        "### Relacion entre variables **Categoricas** y Riesgo"
      ],
      "metadata": {
        "id": "_sGNPVUkQedf"
      }
    },
    {
      "cell_type": "markdown",
      "source": [
        "#### Make"
      ],
      "metadata": {
        "id": "wqoTroe5DjFw"
      }
    },
    {
      "cell_type": "code",
      "source": [
        "fig, ax = plt.subplots(1, 1, figsize=(25,4))\n",
        "ax.scatter(x=data[cat_vars[0]], y=data.Symbolizing, alpha= 0.3)\n",
        "ax.set_ylabel('Riesgo');"
      ],
      "metadata": {
        "colab": {
          "base_uri": "https://localhost:8080/",
          "height": 265
        },
        "id": "TqEWBbFeB8fX",
        "outputId": "291de777-f788-44c0-a179-07abf3386e42"
      },
      "execution_count": null,
      "outputs": [
        {
          "output_type": "display_data",
          "data": {
            "text/plain": [
              "<Figure size 1800x288 with 1 Axes>"
            ],
            "image/png": "[encoded data removed]"
          },
          "metadata": {
            "needs_background": "light"
          }
        }
      ]
    },
    {
      "cell_type": "markdown",
      "source": [
        "Solo las marcas dodge, mercedes-benz, mitsubishi, plymouth, toyota y volvo tienen vehiculos dentro del rango de riesgo negativo.\n",
        "\n",
        "Se podria predecir que, si un vehiculo hace parte de alguna de estas marcas, es probable que pueda tener un nivel de riesgo bajo o medio.\n",
        "\n",
        "Por otro lado, las marcas alfa-romero, mercury y porsche estan fuera del rango negativo y medio de riesgo. Esto quiere decir que, probablemente, un carro manufacturado por esta marca es de alto riesgo."
      ],
      "metadata": {
        "id": "4xRSTZ-BCGRX"
      }
    },
    {
      "cell_type": "markdown",
      "source": [
        "#### Fuel_type"
      ],
      "metadata": {
        "id": "UNHlmF2DDq8x"
      }
    },
    {
      "cell_type": "code",
      "source": [
        "fig, ax = plt.subplots(1, 1, figsize=(2,4))\n",
        "ax.scatter(x=data[cat_vars[1]], y=data.Symbolizing, alpha= 0.3)\n",
        "ax.set_ylabel('Riesgo');"
      ],
      "metadata": {
        "colab": {
          "base_uri": "https://localhost:8080/",
          "height": 265
        },
        "id": "lDbOVzvxA4K9",
        "outputId": "c6e44edd-c8fe-413d-e1c7-b8e9d1d55ae5"
      },
      "execution_count": null,
      "outputs": [
        {
          "output_type": "display_data",
          "data": {
            "text/plain": [
              "<Figure size 144x288 with 1 Axes>"
            ],
            "image/png": "[encoded data removed]"
          },
          "metadata": {
            "needs_background": "light"
          }
        }
      ]
    },
    {
      "cell_type": "markdown",
      "source": [
        "Retomando las conclusiones en el analisis de las cantidades de variables categoricas, Se puede concluir que si es importante analizar la diferencia entre gas y diesel, ya que los vehiculos que utilizan gas pueden tener riesgo minimo y maximo, pero no cuando usan diesel, aunque hay mayor riesgo en esta columna."
      ],
      "metadata": {
        "id": "0MMddF6oF6Nu"
      }
    },
    {
      "cell_type": "markdown",
      "source": [
        "#### Aspiration"
      ],
      "metadata": {
        "id": "r2a2ENFhDvxF"
      }
    },
    {
      "cell_type": "code",
      "source": [
        "fig, ax = plt.subplots(1, 1, figsize=(2,4))\n",
        "ax.scatter(x=data[cat_vars[2]], y=data.Symbolizing, alpha= 0.3)\n",
        "ax.set_ylabel('Riesgo');"
      ],
      "metadata": {
        "colab": {
          "base_uri": "https://localhost:8080/",
          "height": 265
        },
        "id": "RUT8gnPgA4kt",
        "outputId": "998830da-44b4-4df3-bd0d-6033e23d34c0"
      },
      "execution_count": null,
      "outputs": [
        {
          "output_type": "display_data",
          "data": {
            "text/plain": [
              "<Figure size 144x288 with 1 Axes>"
            ],
            "image/png": "[encoded data removed]"
          },
          "metadata": {
            "needs_background": "light"
          }
        }
      ]
    },
    {
      "cell_type": "markdown",
      "source": [
        "Las dos columnas son relativamente similares, por ende, de por si, puede que no tengan mucha relevancia frente al cambio de riesgo, asi que tal vez no sea necesario analizarla."
      ],
      "metadata": {
        "id": "ossr4KhWG_Bk"
      }
    },
    {
      "cell_type": "markdown",
      "source": [
        "#### Num_of_doors"
      ],
      "metadata": {
        "id": "qePInGAsDzxs"
      }
    },
    {
      "cell_type": "code",
      "source": [
        "fig, ax = plt.subplots(1, 1, figsize=(3,4))\n",
        "ax.scatter(x=data[cat_vars[3]], y=data.Symbolizing, alpha= 0.3)\n",
        "ax.set_ylabel('Riesgo');"
      ],
      "metadata": {
        "colab": {
          "base_uri": "https://localhost:8080/",
          "height": 265
        },
        "id": "YGDKwQtLA4u3",
        "outputId": "dca2ef3d-382c-4612-e000-9409c5b5ecdd"
      },
      "execution_count": null,
      "outputs": [
        {
          "output_type": "display_data",
          "data": {
            "text/plain": [
              "<Figure size 216x288 with 1 Axes>"
            ],
            "image/png": "[encoded data removed]"
          },
          "metadata": {
            "needs_background": "light"
          }
        }
      ]
    },
    {
      "cell_type": "markdown",
      "source": [
        "Todos los vehiculos con dos puertas (o posiblemente seis o mas puertas) tienen un riesgo alto o medio, mientras que los vehiculos con cuatro puertas pueden tener el menor nivel de riesgo, pero no el mayor.\n",
        "\n",
        "Quiere decir que es mas probable que un vehiculo sea menos riesgoso si tiene cuatro puertas"
      ],
      "metadata": {
        "id": "tjjJ5UIEHJoL"
      }
    },
    {
      "cell_type": "markdown",
      "source": [
        "#### Body_style"
      ],
      "metadata": {
        "id": "gmk1yJ2zD7zd"
      }
    },
    {
      "cell_type": "code",
      "source": [
        "fig, ax = plt.subplots(1, 1, figsize=(5,4))\n",
        "ax.scatter(x=data[cat_vars[4]], y=data.Symbolizing, alpha= 0.3)\n",
        "ax.set_ylabel('Riesgo');"
      ],
      "metadata": {
        "colab": {
          "base_uri": "https://localhost:8080/",
          "height": 265
        },
        "id": "7ZT9rijiA43c",
        "outputId": "518e7ca3-719c-488b-a057-61550d328ec3"
      },
      "execution_count": null,
      "outputs": [
        {
          "output_type": "display_data",
          "data": {
            "text/plain": [
              "<Figure size 360x288 with 1 Axes>"
            ],
            "image/png": "[encoded data removed]"
          },
          "metadata": {
            "needs_background": "light"
          }
        }
      ]
    },
    {
      "cell_type": "markdown",
      "source": [
        "Esto hace que sea immportante notar a los convertibles y \"coraza dura\", ya que, pese a que son la minoria, se puede ver que tienen en promedio poco riesgo.\n",
        "\n",
        "Por otro lado, los estilos de cuerpo sedan son los menos peligrosos"
      ],
      "metadata": {
        "id": "yLxzWteaHoYO"
      }
    },
    {
      "cell_type": "markdown",
      "source": [
        "#### Drive_wheels"
      ],
      "metadata": {
        "id": "K4FdHsjBEFJ5"
      }
    },
    {
      "cell_type": "code",
      "source": [
        "fig, ax = plt.subplots(1, 1, figsize=(3,4))\n",
        "ax.scatter(x=data[cat_vars[5]], y=data.Symbolizing, alpha= 0.3)\n",
        "ax.set_ylabel('Riesgo');"
      ],
      "metadata": {
        "colab": {
          "base_uri": "https://localhost:8080/",
          "height": 265
        },
        "id": "734dz2lXA4--",
        "outputId": "1a406da8-c9ec-4f92-e2e2-179893ba472e"
      },
      "execution_count": null,
      "outputs": [
        {
          "output_type": "display_data",
          "data": {
            "text/plain": [
              "<Figure size 216x288 with 1 Axes>"
            ],
            "image/png": "[encoded data removed]"
          },
          "metadata": {
            "needs_background": "light"
          }
        }
      ]
    },
    {
      "cell_type": "markdown",
      "source": [
        "No es muy seguro decir que 4wd es en promedio mas segura que las demas, ya que su cantidad de muestra es relativamente baja.\n",
        "\n",
        "Ademas de esto, se puede decir que, asi sea por poco, fwd es mas seguro que rwd."
      ],
      "metadata": {
        "id": "gaERXLVII60M"
      }
    },
    {
      "cell_type": "markdown",
      "source": [
        "#### Engine_location"
      ],
      "metadata": {
        "id": "mSvdv8cOERmu"
      }
    },
    {
      "cell_type": "code",
      "source": [
        "fig, ax = plt.subplots(1, 1, figsize=(2,4))\n",
        "ax.scatter(x=data[cat_vars[6]], y=data.Symbolizing, alpha= 0.3)\n",
        "ax.set_ylabel('Riesgo');"
      ],
      "metadata": {
        "colab": {
          "base_uri": "https://localhost:8080/",
          "height": 265
        },
        "id": "6pISBdPiA5Ic",
        "outputId": "beaaf511-838b-44ce-882b-7315ac192805"
      },
      "execution_count": null,
      "outputs": [
        {
          "output_type": "display_data",
          "data": {
            "text/plain": [
              "<Figure size 144x288 with 1 Axes>"
            ],
            "image/png": "[encoded data removed]"
          },
          "metadata": {
            "needs_background": "light"
          }
        }
      ]
    },
    {
      "cell_type": "markdown",
      "source": [
        "La cantidad de datos en rear hace que no sea posible generar una conclusion valida respecto a su diferencia. \n",
        "\n",
        "Al tener valores en todos los modos de riesgo, puede que no sea pertinente analizar esta variable"
      ],
      "metadata": {
        "id": "5yvDp1DaIElT"
      }
    },
    {
      "cell_type": "markdown",
      "source": [
        "#### Engine_type"
      ],
      "metadata": {
        "id": "rdSmMhZTEckX"
      }
    },
    {
      "cell_type": "code",
      "source": [
        "fig, ax = plt.subplots(1, 1, figsize=(7,4))\n",
        "ax.scatter(x=data[cat_vars[7]], y=data.Symbolizing, alpha= 0.3)\n",
        "ax.set_ylabel('Riesgo');"
      ],
      "metadata": {
        "colab": {
          "base_uri": "https://localhost:8080/",
          "height": 265
        },
        "id": "qikPXfdxA5RL",
        "outputId": "1f75b3f1-ebcc-4ca5-9935-27aa5b6abb89"
      },
      "execution_count": null,
      "outputs": [
        {
          "output_type": "display_data",
          "data": {
            "text/plain": [
              "<Figure size 504x288 with 1 Axes>"
            ],
            "image/png": "[encoded data removed]"
          },
          "metadata": {
            "needs_background": "light"
          }
        }
      ]
    },
    {
      "cell_type": "markdown",
      "source": [
        "Ya que ohc tiene la mayor cantidad de datos, se podria decir que su correlacion con el riesgo es mas certera que los demas (especialmente dohcv, donde solo hay **1** carro).\n",
        "\n",
        "Sin embargo, otra vez, esta conclusion podria cambiar si se analiza en vez dos columnas: es ohc, y no es ohc. Si se realizara este cambio, se podria concluir que los motores que no son de tipo ohc no llegan a tener un minimo nivel de riesgo, y tienen pocas incidencias en el penultimo nivel."
      ],
      "metadata": {
        "id": "b-WN72kDJTcv"
      }
    },
    {
      "cell_type": "markdown",
      "source": [
        "#### Fuel_system"
      ],
      "metadata": {
        "id": "YPIuYkWCEmCm"
      }
    },
    {
      "cell_type": "code",
      "source": [
        "fig, ax = plt.subplots(1, 1, figsize=(8,4))\n",
        "ax.scatter(x=data[cat_vars[8]], y=data.Symbolizing, alpha= 0.3)\n",
        "ax.set_ylabel('Riesgo');"
      ],
      "metadata": {
        "colab": {
          "base_uri": "https://localhost:8080/",
          "height": 265
        },
        "id": "W9jY6IA5A5df",
        "outputId": "6e25bfae-920f-4e65-bb60-5e40b7ce3345"
      },
      "execution_count": null,
      "outputs": [
        {
          "output_type": "display_data",
          "data": {
            "text/plain": [
              "<Figure size 576x288 with 1 Axes>"
            ],
            "image/png": "[encoded data removed]"
          },
          "metadata": {
            "needs_background": "light"
          }
        }
      ]
    },
    {
      "cell_type": "markdown",
      "source": [
        "...lo mismo aqui, solo que mpfi tiene mas carros en el maximo nivel de riesgo que los demas sistemas de combustible (excepto spdi)"
      ],
      "metadata": {
        "id": "-AEIQUkQJ9jb"
      }
    },
    {
      "cell_type": "markdown",
      "source": [
        "### Variables Normalizadas"
      ],
      "metadata": {
        "id": "P4runErxq794"
      }
    },
    {
      "cell_type": "code",
      "source": [
        "copy_of_data = data.copy()\n",
        "\n",
        "for i in cuant_var:\n",
        "  copy_of_data[i] = copy_of_data[i] /copy_of_data[i].abs().max()\n",
        "\n",
        "print(copy_of_data)\n"
      ],
      "metadata": {
        "colab": {
          "base_uri": "https://localhost:8080/"
        },
        "id": "ldqfXxA5riRo",
        "outputId": "973953ac-af46-4c2f-92b6-b0ccf5204eee"
      },
      "execution_count": null,
      "outputs": [
        {
          "output_type": "stream",
          "name": "stdout",
          "text": [
            "     Symbolizing  Normalized_losses         Make Fuel_type Aspiration  \\\n",
            "0              3           0.000000  alfa-romero       gas        std   \n",
            "1              3           0.000000  alfa-romero       gas        std   \n",
            "2              1           0.000000  alfa-romero       gas        std   \n",
            "3              2           0.640625         audi       gas        std   \n",
            "4              2           0.640625         audi       gas        std   \n",
            "..           ...                ...          ...       ...        ...   \n",
            "200           -1           0.371094        volvo       gas        std   \n",
            "201           -1           0.371094        volvo       gas      turbo   \n",
            "202           -1           0.371094        volvo       gas        std   \n",
            "203           -1           0.371094        volvo    diesel      turbo   \n",
            "204           -1           0.371094        volvo       gas      turbo   \n",
            "\n",
            "    Num_of_doors   Body_style Drive_wheels Engine_location  Wheel_base  ...  \\\n",
            "0            two  convertible          rwd           front    0.732837  ...   \n",
            "1            two  convertible          rwd           front    0.732837  ...   \n",
            "2            two    hatchback          rwd           front    0.781638  ...   \n",
            "3           four        sedan          fwd           front    0.825476  ...   \n",
            "4           four        sedan          4wd           front    0.822167  ...   \n",
            "..           ...          ...          ...             ...         ...  ...   \n",
            "200         four        sedan          rwd           front    0.902399  ...   \n",
            "201         four        sedan          rwd           front    0.902399  ...   \n",
            "202         four        sedan          rwd           front    0.902399  ...   \n",
            "203         four        sedan          rwd           front    0.902399  ...   \n",
            "204         four        sedan          rwd           front    0.902399  ...   \n",
            "\n",
            "     Engine_size  Fuel_system      Bore    Stroke Compression_ratio  \\\n",
            "0       0.398773         mpfi  0.880711  0.642686          0.391304   \n",
            "1       0.398773         mpfi  0.880711  0.642686          0.391304   \n",
            "2       0.466258         mpfi  0.680203  0.832134          0.391304   \n",
            "3       0.334356         mpfi  0.809645  0.815348          0.434783   \n",
            "4       0.417178         mpfi  0.809645  0.815348          0.347826   \n",
            "..           ...          ...       ...       ...               ...   \n",
            "200     0.432515         mpfi  0.959391  0.755396          0.413043   \n",
            "201     0.432515         mpfi  0.959391  0.755396          0.378261   \n",
            "202     0.530675         mpfi  0.908629  0.688249          0.382609   \n",
            "203     0.444785          idi  0.763959  0.815348          1.000000   \n",
            "204     0.432515         mpfi  0.959391  0.755396          0.413043   \n",
            "\n",
            "    Horse_power  Peak_rpm  City_mpg  Highway_mpg     Price  \n",
            "0      0.385417  0.757576  0.428571     0.500000  0.297247  \n",
            "1      0.385417  0.757576  0.428571     0.500000  0.363436  \n",
            "2      0.534722  0.757576  0.387755     0.481481  0.363436  \n",
            "3      0.354167  0.833333  0.489796     0.555556  0.307269  \n",
            "4      0.399306  0.833333  0.367347     0.407407  0.384361  \n",
            "..          ...       ...       ...          ...       ...  \n",
            "200    0.395833  0.818182  0.469388     0.518519  0.371035  \n",
            "201    0.555556  0.803030  0.387755     0.462963  0.419493  \n",
            "202    0.465278  0.833333  0.367347     0.425926  0.473238  \n",
            "203    0.368056  0.727273  0.530612     0.500000  0.494934  \n",
            "204    0.395833  0.818182  0.387755     0.462963  0.498348  \n",
            "\n",
            "[205 rows x 26 columns]\n"
          ]
        }
      ]
    },
    {
      "cell_type": "markdown",
      "source": [
        "### Correlacion Cuantitativas"
      ],
      "metadata": {
        "id": "4RNntWoUrkV6"
      }
    },
    {
      "cell_type": "code",
      "source": [
        "corr_df = copy_of_data.corr(method=\"pearson\")\n",
        "\n",
        "plt.figure(figsize=(13, 13))\n",
        "sns.heatmap(corr_df, annot=True)\n",
        "plt.show()"
      ],
      "metadata": {
        "colab": {
          "base_uri": "https://localhost:8080/",
          "height": 841
        },
        "id": "adKcm9iCrm8K",
        "outputId": "71d11af6-555b-464b-93f9-90fbe50f4d1d"
      },
      "execution_count": null,
      "outputs": [
        {
          "output_type": "display_data",
          "data": {
            "text/plain": [
              "<Figure size 936x936 with 2 Axes>"
            ],
            "image/png": "[encoded data removed]"
          },
          "metadata": {
            "needs_background": "light"
          }
        }
      ]
    },
    {
      "cell_type": "markdown",
      "source": [
        "existe una correlacion negativa importante entrela \"wheel base\" y \"heigth\" con la variable objetivo \"symbolizing\". mientras que por el lado contrario variables como \"horse power\", \"city mpg\", \"highway mpg\", etc; tienden tanto a cero que pueden resultar irrelevantes por su poca correlacion con la variable objetivo\n",
        "\n",
        "hay otras variables que tienen una alta correlacion entre ellas lo cual nos puede ayudar a predecir datos faltantes en caso de verlo necesario."
      ],
      "metadata": {
        "id": "dZ1slhnQrv3C"
      }
    },
    {
      "cell_type": "code",
      "source": [],
      "metadata": {
        "id": "XHi2I6Por0sk"
      },
      "execution_count": null,
      "outputs": []
    }
  ]
}